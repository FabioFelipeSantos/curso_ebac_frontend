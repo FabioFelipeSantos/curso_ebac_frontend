{
  "cells": [
    {
      "cell_type": "markdown",
      "metadata": {
        "id": "KJqp9AANOCtf"
      },
      "source": [
        "<img src=\"https://raw.githubusercontent.com/andre-marcos-perez/ebac-course-utils/main/media/logo/newebac_logo_black_half.png\" alt=\"ebac-logo\">\n",
        "\n",
        "---\n",
        "\n",
        "# **Módulo** | Python: Módulos & Pacotes\n",
        "\n",
        "Caderno de **Aula**<br>\n",
        "Professor [André Perez](https://www.linkedin.com/in/andremarcosperez/)\n",
        "\n",
        "---\n"
      ]
    },
    {
      "cell_type": "markdown",
      "metadata": {
        "id": "d9jDtUbDOE1-"
      },
      "source": [
        "# **Tópicos**\n",
        "\n",
        "<ol type=\"1\">\n",
        "  <li>from / import / as;</li>\n",
        "  <li>Módulo;</li>\n",
        "  <li>Pacote;</li>\n",
        "  <li>Baixando pacotes.</li>\n",
        "</ol>\n"
      ]
    },
    {
      "cell_type": "markdown",
      "metadata": {
        "id": "SmoHgt-lwkpD"
      },
      "source": [
        "---\n"
      ]
    },
    {
      "cell_type": "markdown",
      "metadata": {
        "id": "GABI6OW8OfQ2"
      },
      "source": [
        "# **Aulas**\n"
      ]
    },
    {
      "cell_type": "markdown",
      "metadata": {
        "id": "muD1vxozykSC"
      },
      "source": [
        "## 1\\. from / import / as\n"
      ]
    },
    {
      "cell_type": "markdown",
      "metadata": {
        "id": "otv_qcsJmWkr"
      },
      "source": [
        "Os módulos nativos do Python podem ser encontrados neste [link](https://docs.python.org/3/py-modindex.html).\n"
      ]
    },
    {
      "cell_type": "markdown",
      "metadata": {
        "id": "5a3_syBIP6yO"
      },
      "source": [
        "### **1.1. import**\n"
      ]
    },
    {
      "cell_type": "markdown",
      "metadata": {
        "id": "NglCEvJDmqkw"
      },
      "source": [
        "**Exemplo:** `random`\n"
      ]
    },
    {
      "cell_type": "code",
      "execution_count": 1,
      "metadata": {
        "id": "s3TYcbzAlgxe"
      },
      "outputs": [],
      "source": [
        "import random"
      ]
    },
    {
      "cell_type": "code",
      "execution_count": null,
      "metadata": {
        "id": "Bqz8RRXwljEe"
      },
      "outputs": [],
      "source": [
        "escolha = random.choice([1, 2, 3])\n",
        "print(escolha)"
      ]
    },
    {
      "cell_type": "code",
      "execution_count": null,
      "metadata": {
        "id": "FGXZX082mp5C"
      },
      "outputs": [],
      "source": [
        "numero_aleatorio = random.random()  # entre [0,1)\n",
        "print(numero_aleatorio)"
      ]
    },
    {
      "cell_type": "markdown",
      "metadata": {
        "id": "w44EAxw7nCA4"
      },
      "source": [
        "**Exemplo:** `math`\n"
      ]
    },
    {
      "cell_type": "code",
      "execution_count": 4,
      "metadata": {
        "id": "qEW9nFDmnE7w"
      },
      "outputs": [],
      "source": [
        "import math"
      ]
    },
    {
      "cell_type": "code",
      "execution_count": null,
      "metadata": {
        "id": "LD1YND2WnF4-"
      },
      "outputs": [],
      "source": [
        "potencia = math.pow(10, 10)\n",
        "print(potencia)"
      ]
    },
    {
      "cell_type": "code",
      "execution_count": null,
      "metadata": {
        "id": "FobSlEhinWIR"
      },
      "outputs": [],
      "source": [
        "num = math.ceil(10.1)\n",
        "print(num)"
      ]
    },
    {
      "cell_type": "code",
      "execution_count": null,
      "metadata": {
        "id": "WExZa8nMCxMl"
      },
      "outputs": [],
      "source": [
        "print(math.pi)"
      ]
    },
    {
      "cell_type": "markdown",
      "metadata": {
        "id": "E6D5rjlESJ1A"
      },
      "source": [
        "### **1.2. from, import**\n"
      ]
    },
    {
      "cell_type": "markdown",
      "metadata": {
        "id": "bO66G3v8qMBu"
      },
      "source": [
        "**Exemplo:** `time`\n"
      ]
    },
    {
      "cell_type": "code",
      "execution_count": 11,
      "metadata": {
        "id": "C6V_G3BonpW7"
      },
      "outputs": [],
      "source": [
        "from time import time, sleep"
      ]
    },
    {
      "cell_type": "code",
      "execution_count": null,
      "metadata": {
        "id": "NtnIopHFns4L"
      },
      "outputs": [],
      "source": [
        "print(time())"
      ]
    },
    {
      "cell_type": "code",
      "execution_count": null,
      "metadata": {
        "id": "o_nRkCM9oTOW"
      },
      "outputs": [],
      "source": [
        "sleep(5)"
      ]
    },
    {
      "cell_type": "markdown",
      "metadata": {
        "id": "wNkFG1qKSU9M"
      },
      "source": [
        "### **1.3. from, import, as**\n"
      ]
    },
    {
      "cell_type": "markdown",
      "metadata": {
        "id": "KT8LkkzYqO1N"
      },
      "source": [
        "**Exemplo:** `datetime`\n"
      ]
    },
    {
      "cell_type": "code",
      "execution_count": 13,
      "metadata": {
        "id": "X-FHA80Rqdv0"
      },
      "outputs": [],
      "source": [
        "from datetime import datetime as dt"
      ]
    },
    {
      "cell_type": "code",
      "execution_count": null,
      "metadata": {
        "id": "rXaUuslnqlLX"
      },
      "outputs": [],
      "source": [
        "print(dt.now())"
      ]
    },
    {
      "cell_type": "code",
      "execution_count": null,
      "metadata": {
        "id": "Tbrk8CJkq05Z"
      },
      "outputs": [],
      "source": [
        "print(dt.now().day)"
      ]
    },
    {
      "cell_type": "code",
      "execution_count": null,
      "metadata": {
        "id": "JJO0KMONrAX9"
      },
      "outputs": [],
      "source": [
        "print(dt.now().year)"
      ]
    },
    {
      "cell_type": "markdown",
      "metadata": {
        "id": "4rRCvy_UURrM"
      },
      "source": [
        "## 2\\. Módulos\n"
      ]
    },
    {
      "cell_type": "markdown",
      "metadata": {
        "id": "Y1W9Hv8fURrZ"
      },
      "source": [
        "### **2.1. Motivação**\n"
      ]
    },
    {
      "cell_type": "markdown",
      "metadata": {
        "id": "7jdFzax1doaQ"
      },
      "source": [
        "-   Classe Arquivo CSV\n"
      ]
    },
    {
      "cell_type": "code",
      "execution_count": 17,
      "metadata": {
        "id": "Ot1p6JXgdkmZ"
      },
      "outputs": [],
      "source": [
        "class ArquivoCSV(object):\n",
        "\n",
        "    def __init__(self, arquivo: str):\n",
        "        self.arquivo = arquivo\n",
        "        self.conteudo = self._extrair_conteudo()\n",
        "        self.colunas = self._extrair_nome_colunas()\n",
        "\n",
        "    def _extrair_conteudo(self):\n",
        "        conteudo = None\n",
        "        with open(file=self.arquivo, mode=\"r\", encoding=\"utf8\") as arquivo:\n",
        "            conteudo = arquivo.readlines()\n",
        "        return conteudo\n",
        "\n",
        "    def _extrair_nome_colunas(self):\n",
        "        return self.conteudo[0].strip().split(sep=\",\")\n",
        "\n",
        "    def extrair_coluna(self, indice_coluna: str):\n",
        "        coluna = list()\n",
        "        for linha in self.conteudo:\n",
        "            conteudo_linha = linha.strip().split(sep=\",\")\n",
        "            coluna.append(conteudo_linha[indice_coluna])\n",
        "        coluna.pop(0)\n",
        "        return coluna"
      ]
    },
    {
      "cell_type": "markdown",
      "metadata": {
        "id": "YEOtCmOzd-4X"
      },
      "source": [
        "-   Arquivo banco.csv\n"
      ]
    },
    {
      "cell_type": "code",
      "execution_count": null,
      "metadata": {
        "id": "Bjfreo_ndzMZ"
      },
      "outputs": [],
      "source": [
        "%%writefile banco.csv\n",
        "age,job,marital,education,default,balance,housing,loan\n",
        "30,unemployed,married,primary,no,1787,no,no\n",
        "33,services,married,secondary,no,4789,yes,yes\n",
        "35,management,single,tertiary,no,1350,yes,no\n",
        "30,management,married,tertiary,no,1476,yes,yes\n",
        "59,blue-collar,married,secondary,no,0,yes,no\n",
        "35,management,single,tertiary,no,747,no,no\n",
        "36,self-employed,married,tertiary,no,307,yes,no\n",
        "39,technician,married,secondary,no,147,yes,no\n",
        "41,entrepreneur,married,tertiary,no,221,yes,no\n",
        "43,services,married,primary,no,-88,yes,yes"
      ]
    },
    {
      "cell_type": "code",
      "execution_count": null,
      "metadata": {
        "id": "cgWzJ8qKd3Aq"
      },
      "outputs": [],
      "source": [
        "arquivo_banco = ArquivoCSV(arquivo=\"./banco.csv\")"
      ]
    },
    {
      "cell_type": "markdown",
      "metadata": {
        "id": "ky-E74-xWDL9"
      },
      "source": [
        "-   Extraindo a coluna de `education`\n"
      ]
    },
    {
      "cell_type": "code",
      "execution_count": null,
      "metadata": {
        "id": "bVqfe_XgWCaV"
      },
      "outputs": [],
      "source": [
        "education = arquivo_banco.extrair_coluna(indice_coluna=3)\n",
        "print(education)"
      ]
    },
    {
      "cell_type": "markdown",
      "metadata": {
        "id": "cOZDKbe6URrb"
      },
      "source": [
        "### **2.2. Definição**\n"
      ]
    },
    {
      "cell_type": "markdown",
      "metadata": {
        "id": "-E0EkgFkeKtr"
      },
      "source": [
        "Vamos criar um módulo (arquivo) com o nome `arquivo_csv.py` com o código da classe `ArquivoCSV`.\n"
      ]
    },
    {
      "cell_type": "markdown",
      "metadata": {
        "id": "H9C105KafVc-"
      },
      "source": [
        "### **2.3. Revisitando a motivação**\n"
      ]
    },
    {
      "cell_type": "markdown",
      "metadata": {
        "id": "h6T_8leberoO"
      },
      "source": [
        "Vamos importar a classe `ArquivoCSV` do módulo (arquivo) `arquivo_csv.py`.\n"
      ]
    },
    {
      "cell_type": "code",
      "execution_count": 1,
      "metadata": {
        "id": "6FMSdv7MeZ0s"
      },
      "outputs": [],
      "source": [
        "from arquivo_csv import ArquivoCSV\n",
        "\n",
        "arquivo_banco_modulo = ArquivoCSV(arquivo=\"./banco.csv\")"
      ]
    },
    {
      "cell_type": "code",
      "execution_count": 2,
      "metadata": {
        "id": "D-aOjf-3efTd"
      },
      "outputs": [
        {
          "name": "stdout",
          "output_type": "stream",
          "text": [
            "['primary', 'secondary', 'tertiary', 'tertiary', 'secondary', 'tertiary', 'tertiary', 'secondary', 'tertiary', 'primary']\n"
          ]
        }
      ],
      "source": [
        "education = arquivo_banco_modulo.extrair_coluna(indice_coluna=3)\n",
        "print(education)"
      ]
    },
    {
      "cell_type": "markdown",
      "metadata": {
        "id": "ELgoMRAAUSjv"
      },
      "source": [
        "## 3\\. Pacotes\n"
      ]
    },
    {
      "cell_type": "markdown",
      "metadata": {
        "id": "CuLkQY76USjw"
      },
      "source": [
        "### **3.1. Motivação**\n"
      ]
    },
    {
      "cell_type": "markdown",
      "metadata": {
        "id": "ZgxxT_jafqew"
      },
      "source": [
        "-   Classe Arquivo Texto\n"
      ]
    },
    {
      "cell_type": "code",
      "execution_count": 4,
      "metadata": {
        "id": "6ewvbQP9fn8G"
      },
      "outputs": [],
      "source": [
        "class ArquivoTXT(object):\n",
        "\n",
        "    def __init__(self, arquivo: str):\n",
        "        self.arquivo = arquivo\n",
        "        self.conteudo = self._extrair_conteudo()\n",
        "\n",
        "    def _extrair_conteudo(self):\n",
        "        conteudo = None\n",
        "        with open(file=self.arquivo, mode=\"r\", encoding=\"utf8\") as arquivo:\n",
        "            conteudo = arquivo.readlines()\n",
        "        return conteudo\n",
        "\n",
        "    def extrair_linha(self, numero_linha: int):\n",
        "        return self.conteudo[numero_linha - 1]"
      ]
    },
    {
      "cell_type": "markdown",
      "metadata": {
        "id": "yZrvqrk8hMVw"
      },
      "source": [
        "-   Arquivo noticia.txt\n"
      ]
    },
    {
      "cell_type": "code",
      "execution_count": 3,
      "metadata": {
        "id": "3Z2JrlBQhCcv"
      },
      "outputs": [
        {
          "name": "stdout",
          "output_type": "stream",
          "text": [
            "Writing noticia.txt\n"
          ]
        }
      ],
      "source": [
        "%%writefile noticia.txt\n",
        "Egito cobra quase US$ 1 bi para liberar navio que bloqueou Canal de Suez\n",
        "Segundo autoridades, valor será utilizado para recompor as perdas provocados pelo encalhamento da embarcação de quase 400 metros"
      ]
    },
    {
      "cell_type": "code",
      "execution_count": 5,
      "metadata": {
        "id": "qDFlnC0zhUap"
      },
      "outputs": [],
      "source": [
        "arquivo_noticia = ArquivoTXT(arquivo=\"./noticia.txt\")"
      ]
    },
    {
      "cell_type": "code",
      "execution_count": 6,
      "metadata": {
        "id": "SJGiJvVBhci0"
      },
      "outputs": [
        {
          "name": "stdout",
          "output_type": "stream",
          "text": [
            "Egito cobra quase US$ 1 bi para liberar navio que bloqueou Canal de Suez\n",
            "\n"
          ]
        }
      ],
      "source": [
        "titulo = arquivo_noticia.extrair_linha(numero_linha=1)\n",
        "print(titulo)"
      ]
    },
    {
      "cell_type": "markdown",
      "metadata": {
        "id": "JENLdmHkUSjx"
      },
      "source": [
        "### **3.2. Definição**\n"
      ]
    },
    {
      "cell_type": "markdown",
      "metadata": {
        "id": "hSseQ083h0pb"
      },
      "source": [
        "Vamos criar um módulo (arquivo) com o nome `arquivo_txt.py` com o código da classe `ArquivoTXT`.\n"
      ]
    },
    {
      "cell_type": "markdown",
      "metadata": {
        "id": "h0Y-s4Hch59-"
      },
      "source": [
        "Vamos criar um pacote (pasta) com o nome arquivo e mover os módulos (arquivos) `arquivo_csv.py` e `arquivo_txt.py` para ela.\n"
      ]
    },
    {
      "cell_type": "markdown",
      "metadata": {
        "id": "Nq0WCx8HUSjz"
      },
      "source": [
        "### **3.3. Revisitando a motivação**\n"
      ]
    },
    {
      "cell_type": "code",
      "execution_count": 7,
      "metadata": {
        "id": "pKogPUlsif7C"
      },
      "outputs": [],
      "source": [
        "from arquivos.arquivo_csv import ArquivoCSV\n",
        "from arquivos.arquivo_txt import ArquivoTXT"
      ]
    },
    {
      "cell_type": "code",
      "execution_count": 11,
      "metadata": {
        "id": "zzHFt3R7i6DX"
      },
      "outputs": [],
      "source": [
        "arquivo_banco_pacote = ArquivoCSV(arquivo=\"./banco.csv\")\n",
        "arquivo_noticia_pacote = ArquivoTXT(arquivo=\"./noticia.txt\")"
      ]
    },
    {
      "cell_type": "code",
      "execution_count": 13,
      "metadata": {
        "id": "3azao8bvi6pn"
      },
      "outputs": [
        {
          "name": "stdout",
          "output_type": "stream",
          "text": [
            "['primary', 'secondary', 'tertiary', 'tertiary', 'secondary', 'tertiary', 'tertiary', 'secondary', 'tertiary', 'primary']\n"
          ]
        }
      ],
      "source": [
        "education = arquivo_banco_pacote.extrair_coluna(indice_coluna=3)\n",
        "print(education)"
      ]
    },
    {
      "cell_type": "code",
      "execution_count": 12,
      "metadata": {
        "id": "ubb0QMwEi8Vw"
      },
      "outputs": [
        {
          "name": "stdout",
          "output_type": "stream",
          "text": [
            "Egito cobra quase US$ 1 bi para liberar navio que bloqueou Canal de Suez\n",
            "\n"
          ]
        }
      ],
      "source": [
        "titulo = arquivo_noticia_pacote.extrair_linha(numero_linha=1)\n",
        "print(titulo)"
      ]
    },
    {
      "cell_type": "markdown",
      "metadata": {
        "id": "f20ThY5WXmns"
      },
      "source": [
        "## 4\\. Baixando pacotes\n"
      ]
    },
    {
      "cell_type": "markdown",
      "metadata": {
        "id": "FlUhkpdwXmoJ"
      },
      "source": [
        "### **4.1. PyPI**\n"
      ]
    },
    {
      "cell_type": "markdown",
      "metadata": {
        "id": "Z2JHp_YShhGK"
      },
      "source": [
        "Repositório oficial de pacotes Python ([link](https://pypi.org/)).\n"
      ]
    },
    {
      "cell_type": "markdown",
      "metadata": {
        "id": "mU0sJeoCXmoK"
      },
      "source": [
        "### **4.2. PIP**\n"
      ]
    },
    {
      "cell_type": "markdown",
      "metadata": {
        "id": "H7sLz5Ohh2sQ"
      },
      "source": [
        "Ferramenta oficial para instalar pacotes Python armazenados no PyPI.\n"
      ]
    },
    {
      "cell_type": "markdown",
      "metadata": {
        "id": "lk15K9eYhF8-"
      },
      "source": [
        "-   Instalando pacotes: `pip install <pacote>==<versão>`\n"
      ]
    },
    {
      "cell_type": "code",
      "execution_count": 16,
      "metadata": {
        "id": "6PmfjrO3kwE0"
      },
      "outputs": [
        {
          "name": "stdout",
          "output_type": "stream",
          "text": [
            "Collecting requests==2.25.1\n",
            "  Using cached requests-2.25.1-py2.py3-none-any.whl.metadata (4.2 kB)\n",
            "Requirement already satisfied: chardet<5,>=3.0.2 in c:\\python312\\lib\\site-packages (from requests==2.25.1) (4.0.0)\n",
            "Requirement already satisfied: idna<3,>=2.5 in c:\\python312\\lib\\site-packages (from requests==2.25.1) (2.10)\n",
            "Requirement already satisfied: urllib3<1.27,>=1.21.1 in c:\\python312\\lib\\site-packages (from requests==2.25.1) (1.26.20)\n",
            "Collecting certifi>=2017.4.17 (from requests==2.25.1)\n",
            "  Using cached certifi-2024.12.14-py3-none-any.whl.metadata (2.3 kB)\n",
            "Using cached requests-2.25.1-py2.py3-none-any.whl (61 kB)\n",
            "Using cached certifi-2024.12.14-py3-none-any.whl (164 kB)\n",
            "Installing collected packages: certifi, requests\n",
            "Successfully installed certifi-2024.12.14 requests-2.25.1\n"
          ]
        },
        {
          "name": "stderr",
          "output_type": "stream",
          "text": [
            "WARNING: Ignoring invalid distribution ~ip (C:\\Python312\\Lib\\site-packages)\n",
            "WARNING: Ignoring invalid distribution ~ip (C:\\Python312\\Lib\\site-packages)\n",
            "WARNING: Ignoring invalid distribution ~ip (C:\\Python312\\Lib\\site-packages)\n",
            "WARNING: Ignoring invalid distribution ~ip (C:\\Python312\\Lib\\site-packages)\n",
            "\n",
            "[notice] A new release of pip is available: 24.2 -> 24.3.1\n",
            "[notice] To update, run: python.exe -m pip install --upgrade pip\n"
          ]
        }
      ],
      "source": [
        "!pip install requests==2.25.1"
      ]
    },
    {
      "cell_type": "markdown",
      "metadata": {
        "id": "odETseuCiKgA"
      },
      "source": [
        "-   Listando pacotes: `pip freeze`\n"
      ]
    },
    {
      "cell_type": "code",
      "execution_count": 1,
      "metadata": {
        "id": "uVcu2I7miO0e"
      },
      "outputs": [
        {
          "name": "stdout",
          "output_type": "stream",
          "text": [
            "asttokens==3.0.0\n",
            "colorama==0.4.6\n",
            "comm==0.2.2\n",
            "debugpy==1.8.11\n",
            "decorator==5.1.1\n",
            "executing==2.1.0\n",
            "ipykernel==6.29.5\n",
            "ipython==8.31.0\n",
            "jedi==0.19.2\n",
            "jupyter_client==8.6.3\n",
            "jupyter_core==5.7.2\n",
            "matplotlib-inline==0.1.7\n",
            "nest-asyncio==1.6.0\n",
            "packaging==24.2\n",
            "parso==0.8.4\n",
            "platformdirs==4.3.6\n",
            "prompt_toolkit==3.0.48\n",
            "psutil==6.1.1\n",
            "pure_eval==0.2.3\n",
            "Pygments==2.18.0\n",
            "python-dateutil==2.9.0.post0\n",
            "pywin32==308\n",
            "pyzmq==26.2.0\n",
            "setuptools==75.6.0\n",
            "six==1.17.0\n",
            "stack-data==0.6.3\n",
            "tornado==6.4.2\n",
            "traitlets==5.14.3\n",
            "wcwidth==0.2.13\n",
            "wheel==0.45.1\n"
          ]
        }
      ],
      "source": [
        "!pip freeze"
      ]
    },
    {
      "cell_type": "markdown",
      "metadata": {},
      "source": [
        "### 4.2.1 Utilizando o arquivo `requirements.txt`\n",
        "\n",
        "Podemos utilizar o `pip` para instalar pacotes ou módulos Python utilizando um arquivo gerenciador de pacotes, similar ao `package.json` para JavaScript. No Python, este arquivo se chama `requirements.txt`. Com ele criado, basta utilizarmos o seguinte comando no prompt:\n",
        "\n",
        "```bash\n",
        "~/fileRootPath \n",
        "$ pip install -r requirements.txt\n",
        "```"
      ]
    },
    {
      "cell_type": "markdown",
      "metadata": {
        "id": "euzwK_8VirCJ"
      },
      "source": [
        "-   Removendo pacotes: `pip uninstall <pacote>`\n"
      ]
    },
    {
      "cell_type": "code",
      "execution_count": null,
      "metadata": {
        "id": "8C1lfHuji97L"
      },
      "outputs": [],
      "source": [
        "!pip uninstall requests"
      ]
    },
    {
      "cell_type": "markdown",
      "metadata": {
        "id": "IA0eGZQ4k24m"
      },
      "source": [
        "### **4.3. Requests**\n"
      ]
    },
    {
      "cell_type": "markdown",
      "metadata": {
        "id": "aIS5dSmUlNDZ"
      },
      "source": [
        "Pacote para interação com o protocolo web HTTP ([link](https://pypi.org/project/requests/)).\n"
      ]
    },
    {
      "cell_type": "markdown",
      "metadata": {
        "id": "tosUt4YUQ-Eq"
      },
      "source": [
        "**Exemplo:** Extrair a taxa CDI do site da B3.\n"
      ]
    },
    {
      "cell_type": "code",
      "execution_count": 24,
      "metadata": {
        "id": "FOA9GUgklXy_"
      },
      "outputs": [],
      "source": [
        "import requests as req\n",
        "\n",
        "response = req.get(\n",
        "    \"https://api.hgbrasil.com/finance?key=4dab196b\"\n",
        ")\n",
        "\n",
        "# studies 4dab196b"
      ]
    },
    {
      "cell_type": "code",
      "execution_count": 25,
      "metadata": {
        "id": "tgGpWa2ql3u2"
      },
      "outputs": [
        {
          "name": "stdout",
          "output_type": "stream",
          "text": [
            "status code: 200\n"
          ]
        }
      ],
      "source": [
        "print(f\"status code: {response.status_code}\")"
      ]
    },
    {
      "cell_type": "code",
      "execution_count": 26,
      "metadata": {
        "id": "dnQwEQ8tmAXt"
      },
      "outputs": [
        {
          "name": "stdout",
          "output_type": "stream",
          "text": [
            "{\"by\":\"default\",\"valid_key\":true,\"results\":{\"currencies\":{\"source\":\"BRL\",\"USD\":{\"name\":\"Dollar\",\"buy\":6.1589,\"sell\":0.1624,\"variation\":0.13},\"EUR\":{\"name\":\"Euro\",\"buy\":6.3223,\"sell\":0.1582,\"variation\":0.182},\"GBP\":{\"name\":\"Pound Sterling\",\"buy\":7.6268,\"sell\":null,\"variation\":0.193},\"ARS\":{\"name\":\"Argentine Peso\",\"buy\":0.0057,\"sell\":null,\"variation\":0.0},\"CAD\":{\"name\":\"Canadian Dollar\",\"buy\":4.2751,\"sell\":null,\"variation\":0.131},\"AUD\":{\"name\":\"Australian Dollar\",\"buy\":3.8203,\"sell\":null,\"variation\":0.207},\"JPY\":{\"name\":\"Japanese Yen\",\"buy\":0.039,\"sell\":null,\"variation\":0.257},\"CNY\":{\"name\":\"Renminbi\",\"buy\":0.8442,\"sell\":null,\"variation\":0.0},\"BTC\":{\"name\":\"Bitcoin\",\"buy\":631429.288,\"sell\":631429.288,\"variation\":-0.342}},\"stocks\":{\"IBOVESPA\":{\"name\":\"BM\\u0026F BOVESPA\",\"location\":\"Sao Paulo, Brazil\",\"points\":120125.39,\"variation\":-0.13},\"IFIX\":{\"name\":\"Índice de Fundos de Investimentos Imobiliários B3\",\"location\":\"Sao Paulo, Brazil\",\"points\":3117.34,\"variation\":0.03},\"NASDAQ\":{\"name\":\"NASDAQ Stock Market\",\"location\":\"New York City, United States\",\"points\":19280.79,\"variation\":-0.16},\"DOWJONES\":{\"name\":\"Dow Jones Industrial Average\",\"location\":\"New York City, United States\",\"points\":42392.27,\"variation\":-0.36},\"CAC\":{\"name\":\"CAC 40\",\"location\":\"Paris, French\",\"points\":7393.76,\"variation\":0.18},\"NIKKEI\":{\"name\":\"Nikkei 225\",\"location\":\"Tokyo, Japan\",\"points\":39894.54,\"variation\":-0.96}},\"available_sources\":[\"BRL\"],\"bitcoin\":{\"blockchain_info\":{\"name\":\"Blockchain.info\",\"format\":[\"USD\",\"en_US\"],\"last\":96750.52,\"buy\":96750.52,\"sell\":96750.52,\"variation\":-0.311},\"coinbase\":{\"name\":\"Coinbase\",\"format\":[\"USD\",\"en_US\"],\"last\":56019.33,\"variation\":2.506},\"bitstamp\":{\"name\":\"BitStamp\",\"format\":[\"USD\",\"en_US\"],\"last\":96746.0,\"buy\":96744.0,\"sell\":96743.0,\"variation\":-0.345},\"foxbit\":{\"name\":\"FoxBit\",\"format\":[\"BRL\",\"pt_BR\"],\"last\":598887.7136,\"variation\":-0.226},\"mercadobitcoin\":{\"name\":\"Mercado Bitcoin\",\"format\":[\"BRL\",\"pt_BR\"],\"last\":598809.99999999,\"buy\":598809.99999999,\"sell\":598810.0,\"variation\":-0.263}},\"taxes\":[{\"date\":\"2024-12-31\",\"cdi\":12.25,\"selic\":12.25,\"daily_factor\":1.00045513,\"selic_daily\":12.15,\"cdi_daily\":12.15}]},\"execution_time\":0.0,\"from_cache\":true}\n"
          ]
        }
      ],
      "source": [
        "print(response.text)"
      ]
    },
    {
      "cell_type": "code",
      "execution_count": 27,
      "metadata": {
        "id": "I64ho0ZaPhK1"
      },
      "outputs": [
        {
          "name": "stdout",
          "output_type": "stream",
          "text": [
            "{'by': 'default', 'valid_key': True, 'results': {'currencies': {'source': 'BRL', 'USD': {'name': 'Dollar', 'buy': 6.1589, 'sell': 0.1624, 'variation': 0.13}, 'EUR': {'name': 'Euro', 'buy': 6.3223, 'sell': 0.1582, 'variation': 0.182}, 'GBP': {'name': 'Pound Sterling', 'buy': 7.6268, 'sell': None, 'variation': 0.193}, 'ARS': {'name': 'Argentine Peso', 'buy': 0.0057, 'sell': None, 'variation': 0.0}, 'CAD': {'name': 'Canadian Dollar', 'buy': 4.2751, 'sell': None, 'variation': 0.131}, 'AUD': {'name': 'Australian Dollar', 'buy': 3.8203, 'sell': None, 'variation': 0.207}, 'JPY': {'name': 'Japanese Yen', 'buy': 0.039, 'sell': None, 'variation': 0.257}, 'CNY': {'name': 'Renminbi', 'buy': 0.8442, 'sell': None, 'variation': 0.0}, 'BTC': {'name': 'Bitcoin', 'buy': 631429.288, 'sell': 631429.288, 'variation': -0.342}}, 'stocks': {'IBOVESPA': {'name': 'BM&F BOVESPA', 'location': 'Sao Paulo, Brazil', 'points': 120125.39, 'variation': -0.13}, 'IFIX': {'name': 'Índice de Fundos de Investimentos Imobiliários B3', 'location': 'Sao Paulo, Brazil', 'points': 3117.34, 'variation': 0.03}, 'NASDAQ': {'name': 'NASDAQ Stock Market', 'location': 'New York City, United States', 'points': 19280.79, 'variation': -0.16}, 'DOWJONES': {'name': 'Dow Jones Industrial Average', 'location': 'New York City, United States', 'points': 42392.27, 'variation': -0.36}, 'CAC': {'name': 'CAC 40', 'location': 'Paris, French', 'points': 7393.76, 'variation': 0.18}, 'NIKKEI': {'name': 'Nikkei 225', 'location': 'Tokyo, Japan', 'points': 39894.54, 'variation': -0.96}}, 'available_sources': ['BRL'], 'bitcoin': {'blockchain_info': {'name': 'Blockchain.info', 'format': ['USD', 'en_US'], 'last': 96750.52, 'buy': 96750.52, 'sell': 96750.52, 'variation': -0.311}, 'coinbase': {'name': 'Coinbase', 'format': ['USD', 'en_US'], 'last': 56019.33, 'variation': 2.506}, 'bitstamp': {'name': 'BitStamp', 'format': ['USD', 'en_US'], 'last': 96746.0, 'buy': 96744.0, 'sell': 96743.0, 'variation': -0.345}, 'foxbit': {'name': 'FoxBit', 'format': ['BRL', 'pt_BR'], 'last': 598887.7136, 'variation': -0.226}, 'mercadobitcoin': {'name': 'Mercado Bitcoin', 'format': ['BRL', 'pt_BR'], 'last': 598809.99999999, 'buy': 598809.99999999, 'sell': 598810.0, 'variation': -0.263}}, 'taxes': [{'date': '2024-12-31', 'cdi': 12.25, 'selic': 12.25, 'daily_factor': 1.00045513, 'selic_daily': 12.15, 'cdi_daily': 12.15}]}, 'execution_time': 0.0, 'from_cache': True}\n"
          ]
        }
      ],
      "source": [
        "import json\n",
        "\n",
        "data = json.loads(response.text)\n",
        "print(data)"
      ]
    },
    {
      "cell_type": "code",
      "execution_count": 42,
      "metadata": {
        "id": "aBMgH8LBNjBg"
      },
      "outputs": [
        {
          "name": "stdout",
          "output_type": "stream",
          "text": [
            "12.25 <class 'float'>\n"
          ]
        }
      ],
      "source": [
        "cdi = None\n",
        "\n",
        "for key, value in data.items():\n",
        "    if key == \"results\":\n",
        "        cdi = value['taxes'][0]['cdi']\n",
        "\n",
        "print(cdi, type(cdi))"
      ]
    }
  ],
  "metadata": {
    "colab": {
      "collapsed_sections": [],
      "name": "module_7_class.ipynb",
      "provenance": [],
      "toc_visible": true
    },
    "kernelspec": {
      "display_name": "Python 3",
      "name": "python3"
    },
    "language_info": {
      "codemirror_mode": {
        "name": "ipython",
        "version": 3
      },
      "file_extension": ".py",
      "mimetype": "text/x-python",
      "name": "python",
      "nbconvert_exporter": "python",
      "pygments_lexer": "ipython3",
      "version": "3.13.1"
    }
  },
  "nbformat": 4,
  "nbformat_minor": 0
}
