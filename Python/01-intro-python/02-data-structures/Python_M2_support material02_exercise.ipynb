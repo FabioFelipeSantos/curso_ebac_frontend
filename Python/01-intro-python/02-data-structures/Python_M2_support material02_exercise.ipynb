{
  "cells": [
    {
      "cell_type": "markdown",
      "metadata": {
        "id": "KJqp9AANOCtf"
      },
      "source": [
        "<img src=\"https://raw.githubusercontent.com/andre-marcos-perez/ebac-course-utils/main/media/logo/newebac_logo_black_half.png\" alt=\"ebac-logo\">\n",
        "\n",
        "---\n",
        "\n",
        "# **Módulo** | Python: Estruturas de Dados\n",
        "Caderno de **Exercícios**<br> \n",
        "Professor [André Perez](https://www.linkedin.com/in/andremarcosperez/)\n",
        "\n",
        "---"
      ]
    },
    {
      "cell_type": "markdown",
      "metadata": {
        "id": "d9jDtUbDOE1-"
      },
      "source": [
        "# **Tópicos**\n",
        "\n",
        "<ol type=\"1\">\n",
        "  <li>Listas;</li>\n",
        "  <li>Conjuntos;</li>\n",
        "  <li>Dicionários.</li>\n",
        "</ol>"
      ]
    },
    {
      "cell_type": "markdown",
      "metadata": {
        "id": "SmoHgt-lwkpD"
      },
      "source": [
        "---"
      ]
    },
    {
      "cell_type": "markdown",
      "metadata": {
        "id": "GABI6OW8OfQ2"
      },
      "source": [
        "# **Exercícios**"
      ]
    },
    {
      "cell_type": "markdown",
      "metadata": {
        "id": "muD1vxozykSC"
      },
      "source": [
        "## 1\\. Listas"
      ]
    },
    {
      "cell_type": "markdown",
      "metadata": {
        "id": "ahrFfCuBxJKs"
      },
      "source": [
        "Criei uma lista chamada `filmes` com o nome dos 10 primeiros filmes mais bem avaliados no site no [IMDB](https://www.imdb.com/chart/top/). Imprima o resultado."
      ]
    },
    {
      "cell_type": "code",
      "execution_count": 17,
      "metadata": {
        "id": "OgL6Hv3bzOHI"
      },
      "outputs": [
        {
          "name": "stdout",
          "output_type": "stream",
          "text": [
            "['The Shawshank Redemption', 'The Godfather', 'The Dark Knight', 'The Godfather Part II', '12 Angry Men', 'The Lord of the Rings: The Return of the King', \"Schindler's List\", 'Pulp Fiction', 'The Lord of the Rings: The Fellowship of the Ring', 'The Good, the Bad and the Ugly']\n"
          ]
        }
      ],
      "source": [
        "filmes = [\"The Shawshank Redemption\",\n",
        "\"The Godfather\",\n",
        "\"The Dark Knight\",\n",
        "\"The Godfather Part II\",\n",
        "\"12 Angry Men\",\n",
        "\"The Lord of the Rings: The Return of the King\",\n",
        "\"Schindler's List\",\n",
        "\"Pulp Fiction\",\n",
        "\"The Lord of the Rings: The Fellowship of the Ring\",\n",
        "\"The Good, the Bad and the Ugly\"]\n",
        "\n",
        "print(filmes)"
      ]
    },
    {
      "cell_type": "markdown",
      "metadata": {
        "id": "KI9zQRT2xa7m"
      },
      "source": [
        "Simule a movimentação do *ranking*. Utilize os métodos `insert` e `pop` para trocar a posição do primeiro e do segundo filme da lista. Imprima o resultado.\n",
        "\n"
      ]
    },
    {
      "cell_type": "code",
      "execution_count": 18,
      "metadata": {
        "id": "zX3mA3_GzrXH"
      },
      "outputs": [
        {
          "name": "stdout",
          "output_type": "stream",
          "text": [
            "The Godfather\n",
            "['The Shawshank Redemption', 'The Dark Knight', 'The Godfather Part II', '12 Angry Men', 'The Lord of the Rings: The Return of the King', \"Schindler's List\", 'Pulp Fiction', 'The Lord of the Rings: The Fellowship of the Ring', 'The Good, the Bad and the Ugly']\n",
            "['The Godfather', 'The Shawshank Redemption', 'The Dark Knight', 'The Godfather Part II', '12 Angry Men', 'The Lord of the Rings: The Return of the King', \"Schindler's List\", 'Pulp Fiction', 'The Lord of the Rings: The Fellowship of the Ring', 'The Good, the Bad and the Ugly']\n"
          ]
        }
      ],
      "source": [
        "second_movie = filmes.pop(1)\n",
        "print(second_movie)\n",
        "print(filmes)\n",
        "\n",
        "filmes.insert(0, second_movie)\n",
        "print(filmes)"
      ]
    },
    {
      "cell_type": "markdown",
      "metadata": {
        "id": "zMN1Q3jdwoJm"
      },
      "source": [
        "---"
      ]
    },
    {
      "cell_type": "markdown",
      "metadata": {
        "id": "lxa5L6uF0ZJE"
      },
      "source": [
        "## 2\\. Conjuntos"
      ]
    },
    {
      "cell_type": "markdown",
      "metadata": {
        "id": "9JahS2Kj0d5u"
      },
      "source": [
        "Aconteceu um erro no seu *ranking*. Simule a duplicação dos três últimos filmes da lista. Imprima o resultado."
      ]
    },
    {
      "cell_type": "code",
      "execution_count": 19,
      "metadata": {
        "id": "BnjnLBNC6PGe"
      },
      "outputs": [
        {
          "name": "stdout",
          "output_type": "stream",
          "text": [
            "Lista:\n",
            "['The Godfather', 'The Shawshank Redemption', 'The Dark Knight', 'The Godfather Part II', '12 Angry Men', 'The Lord of the Rings: The Return of the King', \"Schindler's List\", 'Pulp Fiction', 'The Lord of the Rings: The Fellowship of the Ring', 'The Good, the Bad and the Ugly']\n",
            "Tamanho da lista: 10\n",
            "Lista:\n",
            "['The Godfather', 'The Shawshank Redemption', 'The Dark Knight', 'The Godfather Part II', '12 Angry Men', 'The Lord of the Rings: The Return of the King', \"Schindler's List\", 'Pulp Fiction', 'The Lord of the Rings: The Fellowship of the Ring', 'The Good, the Bad and the Ugly', 'Pulp Fiction', 'The Lord of the Rings: The Fellowship of the Ring', 'The Good, the Bad and the Ugly']\n",
            "Tamanho da lista: 13\n"
          ]
        }
      ],
      "source": [
        "print(f\"Lista:\\n{filmes}\\nTamanho da lista: {len(filmes)}\")\n",
        "filmes.append(\"Pulp Fiction\")\n",
        "filmes.append(\"The Lord of the Rings: The Fellowship of the Ring\")\n",
        "filmes.append(\"The Good, the Bad and the Ugly\")\n",
        "\n",
        "print(f\"Lista:\\n{filmes}\\nTamanho da lista: {len(filmes)}\")"
      ]
    },
    {
      "cell_type": "markdown",
      "metadata": {
        "id": "suxTfCJB6ZiX"
      },
      "source": [
        "Utiliza a conversão `set` e `list` para remover os valores duplicados. Imprima o resultado. "
      ]
    },
    {
      "cell_type": "code",
      "execution_count": 20,
      "metadata": {
        "id": "ZvUGN-0n6joM"
      },
      "outputs": [
        {
          "name": "stdout",
          "output_type": "stream",
          "text": [
            "Lista:\n",
            "['The Godfather', 'The Shawshank Redemption', 'The Dark Knight', 'The Godfather Part II', '12 Angry Men', 'The Lord of the Rings: The Return of the King', \"Schindler's List\", 'Pulp Fiction', 'The Lord of the Rings: The Fellowship of the Ring', 'The Good, the Bad and the Ugly', 'Pulp Fiction', 'The Lord of the Rings: The Fellowship of the Ring', 'The Good, the Bad and the Ugly']\n",
            "Tamanho da lista: 13\n",
            "Lista:\n",
            "['12 Angry Men', 'The Godfather', 'The Godfather Part II', 'Pulp Fiction', \"Schindler's List\", 'The Lord of the Rings: The Fellowship of the Ring', 'The Shawshank Redemption', 'The Dark Knight', 'The Lord of the Rings: The Return of the King', 'The Good, the Bad and the Ugly']\n",
            "Tamanho da lista: 10\n"
          ]
        }
      ],
      "source": [
        "print(f\"Lista:\\n{filmes}\\nTamanho da lista: {len(filmes)}\")\n",
        "filmes = list(set(filmes))\n",
        "print(f\"Lista:\\n{filmes}\\nTamanho da lista: {len(filmes)}\")"
      ]
    },
    {
      "cell_type": "markdown",
      "metadata": {
        "id": "ShkK35eQ6pAM"
      },
      "source": [
        "---"
      ]
    },
    {
      "cell_type": "markdown",
      "metadata": {
        "id": "EL_FzmxL6rTv"
      },
      "source": [
        "## 3\\. Dicionários"
      ]
    },
    {
      "cell_type": "markdown",
      "metadata": {
        "id": "i8l0gFqRCpfT"
      },
      "source": [
        "Repita os exercícios da parte 1 (listas). Os elementos da lista `filmes` devem ser dicionários no seguinte formato: `{'nome': <nome-do-filme>, 'ano': <ano do filme>}, 'sinopse': <sinopse do filme>}`. "
      ]
    },
    {
      "cell_type": "code",
      "execution_count": 22,
      "metadata": {
        "id": "tu6MSFwGDnHv"
      },
      "outputs": [
        {
          "name": "stdout",
          "output_type": "stream",
          "text": [
            "[{'nome': 'The Shawshank Redemption', 'ano': '1994', 'sinopse': 'Um banqueiro condenado por uxoricídio faz amizade há mais de um quarto de século com um condenado endurecido, mantendo sua inocência e tentando permanecer esperançoso por meio de simples compaixão.'}, {'nome': 'The Godfather', 'ano': '1972', 'sinopse': 'O patriarca idoso de uma dinastia do crime organizado transfere o controle de seu império clandestino para seu filho relutante.'}, {'nome': 'The Dark Knight', 'ano': '2008', 'sinopse': 'Quando uma ameaça conhecida como Coringa causa estragos e caos no povo de Gotham, Batman, James Gordon e Harvey Dent devem trabalhar juntos para acabar com a loucura.'}, {'nome': 'The Godfather Part II', 'ano': '1974', 'sinopse': 'O início da vida e da carreira de Vito Corleone na cidade de Nova York dos anos 1920 é retratado, enquanto seu filho, Michael, expande e aperta seu controle sobre o sindicato do crime da família.'}, {'nome': '12 Angry Men', 'ano': '1957', 'sinopse': 'O júri em um julgamento de assassinato na cidade de Nova York está frustrado por um único membro cuja cautela cética os obriga a considerar com mais cuidado as evidências antes de pular para um veredicto precipitado.'}, {'nome': 'The Lord of the Rings: The Return of the King', 'ano': '2003', 'sinopse': 'Gandalf e Aragorn lideram o Mundo dos Homens contra o exército de Sauron para desviar seu olhar de Frodo e Sam enquanto eles se aproximam da Montanha da Perdição com o Um Anel.'}, {'nome': \"Schindler's List\", 'ano': '1993', 'sinopse': 'Na Polônia ocupada pelos alemães durante a Segunda Guerra Mundial, o industrial Oskar Schindler gradualmente se preocupa com sua força de trabalho judaica depois de testemunhar sua perseguição pelos nazistas.'}, {'nome': 'Pulp Fiction', 'ano': '1994', 'sinopse': 'As vidas de dois assassinos da máfia, um boxeador, um gângster e sua esposa, e um par de bandidos de lanchonete se entrelaçam em quatro contos de violência e redenção.'}, {'nome': 'The Lord of the Rings: The Fellowship of the Ring', 'ano': '2001', 'sinopse': 'Um manso Hobbit do Condado e oito companheiros partem em uma jornada para destruir o poderoso Um Anel e salvar a Terra-média do Lorde das Trevas Sauron.'}, {'nome': 'The Good, the Bad and the Ugly', 'ano': '1966', 'sinopse': 'Um golpe de caça a recompensas une dois homens em uma aliança desconfortável contra um terceiro em uma corrida para encontrar uma fortuna em ouro enterrado em um cemitério remoto.'}]\n"
          ]
        }
      ],
      "source": [
        "filmes = [\n",
        "    {\n",
        "        \"nome\": \"The Shawshank Redemption\",\n",
        "        \"ano\": \"1994\",\n",
        "        \"sinopse\": \"Um banqueiro condenado por uxoricídio faz amizade há mais de um quarto de século com um condenado endurecido, mantendo sua inocência e tentando permanecer esperançoso por meio de simples compaixão.\"\n",
        "    },\n",
        "    {\n",
        "        \"nome\": \"The Godfather\", \n",
        "        \"ano\": \"1972\",\n",
        "        \"sinopse\": \"O patriarca idoso de uma dinastia do crime organizado transfere o controle de seu império clandestino para seu filho relutante.\"\n",
        "    },\n",
        "    {\n",
        "        \"nome\": \"The Dark Knight\", \n",
        "        \"ano\": \"2008\",\n",
        "        \"sinopse\": \"Quando uma ameaça conhecida como Coringa causa estragos e caos no povo de Gotham, Batman, James Gordon e Harvey Dent devem trabalhar juntos para acabar com a loucura.\"\n",
        "    },\n",
        "    {\n",
        "        \"nome\": \"The Godfather Part II\",\n",
        "        \"ano\": \"1974\",\n",
        "        \"sinopse\": \"O início da vida e da carreira de Vito Corleone na cidade de Nova York dos anos 1920 é retratado, enquanto seu filho, Michael, expande e aperta seu controle sobre o sindicato do crime da família.\"\n",
        "    },\n",
        "    {\n",
        "        \"nome\": \"12 Angry Men\",\n",
        "        \"ano\": \"1957\",\n",
        "        \"sinopse\": \"O júri em um julgamento de assassinato na cidade de Nova York está frustrado por um único membro cuja cautela cética os obriga a considerar com mais cuidado as evidências antes de pular para um veredicto precipitado.\"\n",
        "    },\n",
        "    {\n",
        "        \"nome\": \"The Lord of the Rings: The Return of the King\",\n",
        "        \"ano\": \"2003\",\n",
        "        \"sinopse\": \"Gandalf e Aragorn lideram o Mundo dos Homens contra o exército de Sauron para desviar seu olhar de Frodo e Sam enquanto eles se aproximam da Montanha da Perdição com o Um Anel.\"\n",
        "    },\n",
        "    {\n",
        "        \"nome\": \"Schindler's List\",\n",
        "        \"ano\": \"1993\",\n",
        "        \"sinopse\": \"Na Polônia ocupada pelos alemães durante a Segunda Guerra Mundial, o industrial Oskar Schindler gradualmente se preocupa com sua força de trabalho judaica depois de testemunhar sua perseguição pelos nazistas.\"\n",
        "    },\n",
        "    {\n",
        "        \"nome\": \"Pulp Fiction\",\n",
        "        \"ano\": \"1994\",\n",
        "        \"sinopse\": \"As vidas de dois assassinos da máfia, um boxeador, um gângster e sua esposa, e um par de bandidos de lanchonete se entrelaçam em quatro contos de violência e redenção.\"\n",
        "    },\n",
        "    {\n",
        "        \"nome\": \"The Lord of the Rings: The Fellowship of the Ring\",\n",
        "        \"ano\": \"2001\",\n",
        "        \"sinopse\": \"Um manso Hobbit do Condado e oito companheiros partem em uma jornada para destruir o poderoso Um Anel e salvar a Terra-média do Lorde das Trevas Sauron.\"\n",
        "    },\n",
        "    {\n",
        "        \"nome\": \"The Good, the Bad and the Ugly\",\n",
        "        \"ano\": \"1966\",\n",
        "        \"sinopse\": \"Um golpe de caça a recompensas une dois homens em uma aliança desconfortável contra um terceiro em uma corrida para encontrar uma fortuna em ouro enterrado em um cemitério remoto.\"\n",
        "    }]\n",
        "\n",
        "print(filmes)"
      ]
    },
    {
      "cell_type": "code",
      "execution_count": 23,
      "metadata": {},
      "outputs": [
        {
          "name": "stdout",
          "output_type": "stream",
          "text": [
            "{'nome': 'The Godfather', 'ano': '1972', 'sinopse': 'O patriarca idoso de uma dinastia do crime organizado transfere o controle de seu império clandestino para seu filho relutante.'}\n",
            "[{'nome': 'The Godfather', 'ano': '1972', 'sinopse': 'O patriarca idoso de uma dinastia do crime organizado transfere o controle de seu império clandestino para seu filho relutante.'}, {'nome': 'The Shawshank Redemption', 'ano': '1994', 'sinopse': 'Um banqueiro condenado por uxoricídio faz amizade há mais de um quarto de século com um condenado endurecido, mantendo sua inocência e tentando permanecer esperançoso por meio de simples compaixão.'}, {'nome': 'The Dark Knight', 'ano': '2008', 'sinopse': 'Quando uma ameaça conhecida como Coringa causa estragos e caos no povo de Gotham, Batman, James Gordon e Harvey Dent devem trabalhar juntos para acabar com a loucura.'}, {'nome': 'The Godfather Part II', 'ano': '1974', 'sinopse': 'O início da vida e da carreira de Vito Corleone na cidade de Nova York dos anos 1920 é retratado, enquanto seu filho, Michael, expande e aperta seu controle sobre o sindicato do crime da família.'}, {'nome': '12 Angry Men', 'ano': '1957', 'sinopse': 'O júri em um julgamento de assassinato na cidade de Nova York está frustrado por um único membro cuja cautela cética os obriga a considerar com mais cuidado as evidências antes de pular para um veredicto precipitado.'}, {'nome': 'The Lord of the Rings: The Return of the King', 'ano': '2003', 'sinopse': 'Gandalf e Aragorn lideram o Mundo dos Homens contra o exército de Sauron para desviar seu olhar de Frodo e Sam enquanto eles se aproximam da Montanha da Perdição com o Um Anel.'}, {'nome': \"Schindler's List\", 'ano': '1993', 'sinopse': 'Na Polônia ocupada pelos alemães durante a Segunda Guerra Mundial, o industrial Oskar Schindler gradualmente se preocupa com sua força de trabalho judaica depois de testemunhar sua perseguição pelos nazistas.'}, {'nome': 'Pulp Fiction', 'ano': '1994', 'sinopse': 'As vidas de dois assassinos da máfia, um boxeador, um gângster e sua esposa, e um par de bandidos de lanchonete se entrelaçam em quatro contos de violência e redenção.'}, {'nome': 'The Lord of the Rings: The Fellowship of the Ring', 'ano': '2001', 'sinopse': 'Um manso Hobbit do Condado e oito companheiros partem em uma jornada para destruir o poderoso Um Anel e salvar a Terra-média do Lorde das Trevas Sauron.'}, {'nome': 'The Good, the Bad and the Ugly', 'ano': '1966', 'sinopse': 'Um golpe de caça a recompensas une dois homens em uma aliança desconfortável contra um terceiro em uma corrida para encontrar uma fortuna em ouro enterrado em um cemitério remoto.'}]\n"
          ]
        }
      ],
      "source": [
        "second_movie = filmes.pop(1)\n",
        "print(second_movie)\n",
        "\n",
        "filmes.insert(0, second_movie)\n",
        "print(filmes)"
      ]
    }
  ],
  "metadata": {
    "colab": {
      "collapsed_sections": [],
      "name": "module_2_exercise.ipynb",
      "provenance": [],
      "toc_visible": true
    },
    "kernelspec": {
      "display_name": "Python 3",
      "name": "python3"
    },
    "language_info": {
      "codemirror_mode": {
        "name": "ipython",
        "version": 3
      },
      "file_extension": ".py",
      "mimetype": "text/x-python",
      "name": "python",
      "nbconvert_exporter": "python",
      "pygments_lexer": "ipython3",
      "version": "3.12.6"
    }
  },
  "nbformat": 4,
  "nbformat_minor": 0
}
