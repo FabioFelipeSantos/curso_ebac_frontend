{
  "cells": [
    {
      "cell_type": "markdown",
      "metadata": {
        "id": "KJqp9AANOCtf"
      },
      "source": [
        "<img src=\"https://raw.githubusercontent.com/andre-marcos-perez/ebac-course-utils/main/media/logo/newebac_logo_black_half.png\" alt=\"ebac-logo\">\n",
        "\n",
        "---\n",
        "\n",
        "# **Módulo 02** | Python: Estruturas de Dados\n",
        "Caderno de **Aula**<br> \n",
        "Professor [André Perez](https://www.linkedin.com/in/andremarcosperez/)\n",
        "\n",
        "---"
      ]
    },
    {
      "cell_type": "markdown",
      "metadata": {
        "id": "d9jDtUbDOE1-"
      },
      "source": [
        "# **Tópicos**\n",
        "\n",
        "<ol type=\"1\">\n",
        "  <li>Listas;</li>\n",
        "  <li>Conjuntos;</li>\n",
        "  <li>Dicionários.</li>\n",
        "</ol>"
      ]
    },
    {
      "cell_type": "markdown",
      "metadata": {
        "id": "SmoHgt-lwkpD"
      },
      "source": [
        "---"
      ]
    },
    {
      "cell_type": "markdown",
      "metadata": {
        "id": "GABI6OW8OfQ2"
      },
      "source": [
        "# **Aulas**"
      ]
    },
    {
      "cell_type": "markdown",
      "metadata": {
        "id": "muD1vxozykSC"
      },
      "source": [
        "## 1\\. Listas"
      ]
    },
    {
      "cell_type": "markdown",
      "metadata": {
        "id": "5a3_syBIP6yO"
      },
      "source": [
        "### **1.1. Motivação** "
      ]
    },
    {
      "cell_type": "markdown",
      "metadata": {
        "id": "BmXmjEay_JOP"
      },
      "source": [
        "O aplicativo do seu banco registra toda a sua movimentação financeira. O final do dia, o app consolida o saldo final para que você possa controlar sua vida financeira."
      ]
    },
    {
      "cell_type": "code",
      "execution_count": 1,
      "metadata": {
        "id": "9N1LJEm7AlyF"
      },
      "outputs": [],
      "source": [
        "dia_11_saldo_inicial = 1000"
      ]
    },
    {
      "cell_type": "code",
      "execution_count": 2,
      "metadata": {
        "id": "K_kN8YZm_5gv"
      },
      "outputs": [],
      "source": [
        "dia_11_transacao_1 = 243\n",
        "dia_11_transacao_2 = -798.58\n",
        "dia_11_transacao_3 = 427.12\n",
        "dia_11_transacao_4 = -10.91"
      ]
    },
    {
      "cell_type": "code",
      "execution_count": 3,
      "metadata": {
        "id": "oPuPUmzfAojH"
      },
      "outputs": [],
      "source": [
        "dia_11_saldo_final = dia_11_saldo_inicial + dia_11_transacao_1 + dia_11_transacao_2 + dia_11_transacao_3 + dia_11_transacao_4"
      ]
    },
    {
      "cell_type": "code",
      "execution_count": 4,
      "metadata": {
        "id": "vIGCRWomqbsl"
      },
      "outputs": [
        {
          "name": "stdout",
          "output_type": "stream",
          "text": [
            "860.63\n"
          ]
        }
      ],
      "source": [
        "print(dia_11_saldo_final)"
      ]
    },
    {
      "cell_type": "markdown",
      "metadata": {
        "id": "TfDH4namA43t"
      },
      "source": [
        "Será que exista uma forma melhor de armazenar as transações diárias?"
      ]
    },
    {
      "cell_type": "markdown",
      "metadata": {
        "id": "E6D5rjlESJ1A"
      },
      "source": [
        "### **1.2. Definição** "
      ]
    },
    {
      "cell_type": "markdown",
      "metadata": {
        "id": "ajMuhMQx3bfB"
      },
      "source": [
        "Armazenam sequências mutáveis e ordenadas de valores. São do tipo `list`:\n"
      ]
    },
    {
      "cell_type": "code",
      "execution_count": 5,
      "metadata": {
        "id": "mtCBXOvB3bfd"
      },
      "outputs": [
        {
          "name": "stdout",
          "output_type": "stream",
          "text": [
            "['André Perez', 'andre.perez', 'andre123', 'andre.perez@gmail.com']\n",
            "<class 'list'>\n"
          ]
        }
      ],
      "source": [
        "usuario_web = ['André Perez', 'andre.perez', 'andre123', 'andre.perez@gmail.com']\n",
        "\n",
        "print(usuario_web)\n",
        "print(type(usuario_web))"
      ]
    },
    {
      "cell_type": "code",
      "execution_count": 6,
      "metadata": {
        "id": "IDyGAYp13bfe"
      },
      "outputs": [
        {
          "name": "stdout",
          "output_type": "stream",
          "text": [
            "['André Perez', 20, 'andre.perez', 'andre123', 'andre.perez@gmail.com', 723.15, True]\n",
            "<class 'list'>\n"
          ]
        }
      ],
      "source": [
        "idade = 20\n",
        "saldo_em_conta = 723.15\n",
        "usuario_loggedin = True\n",
        "\n",
        "usuario_web = ['André Perez', idade, 'andre.perez', 'andre123', 'andre.perez@gmail.com', saldo_em_conta, usuario_loggedin]\n",
        "\n",
        "print(usuario_web)\n",
        "print(type(usuario_web))"
      ]
    },
    {
      "cell_type": "markdown",
      "metadata": {
        "id": "wNkFG1qKSU9M"
      },
      "source": [
        "### **1.3. Operações** "
      ]
    },
    {
      "cell_type": "markdown",
      "metadata": {
        "id": "okUlGror3kEO"
      },
      "source": [
        "As operações da estrutura do tipo *list* são:\n",
        "\n",
        "\n",
        "*   `+` (concatenação)."
      ]
    },
    {
      "cell_type": "markdown",
      "metadata": {
        "id": "gI0uX4ba3xRt"
      },
      "source": [
        "**Exemplo**: Fabricantes de *hardware* mobile"
      ]
    },
    {
      "cell_type": "code",
      "execution_count": 7,
      "metadata": {
        "id": "_yq5ifl536nt"
      },
      "outputs": [
        {
          "name": "stdout",
          "output_type": "stream",
          "text": [
            "['xiaomi', 'huawei']\n",
            "['apple', 'motorola']\n",
            "['xiaomi', 'huawei', 'apple', 'motorola']\n"
          ]
        }
      ],
      "source": [
        "fabricantes_mobile_china = ['xiaomi', 'huawei']\n",
        "fabricantes_mobile_eua = ['apple', 'motorola']\n",
        "fabricantes_mobile = fabricantes_mobile_china + fabricantes_mobile_eua\n",
        "\n",
        "print(fabricantes_mobile_china)\n",
        "print(fabricantes_mobile_eua)\n",
        "print(fabricantes_mobile)"
      ]
    },
    {
      "cell_type": "markdown",
      "metadata": {
        "id": "ND9FzyEn5kFs"
      },
      "source": [
        "Outra operação muito utilizada é a de fatiamento (*slicing*), semelhante ao de *strings*:"
      ]
    },
    {
      "cell_type": "markdown",
      "metadata": {
        "id": "Y8b_DalN5x3D"
      },
      "source": [
        "Fatiamento fixo:"
      ]
    },
    {
      "cell_type": "code",
      "execution_count": 8,
      "metadata": {
        "id": "sDxRHUKp5wFw"
      },
      "outputs": [
        {
          "name": "stdout",
          "output_type": "stream",
          "text": [
            "0: xiaomi\n",
            "-1: motorola\n"
          ]
        }
      ],
      "source": [
        "print(f'0: {fabricantes_mobile[0]}')\n",
        "print(f'-1: {fabricantes_mobile[-1]}')"
      ]
    },
    {
      "cell_type": "markdown",
      "metadata": {
        "id": "-xHG7dS16Qb4"
      },
      "source": [
        "Fatiamento por intervalo:"
      ]
    },
    {
      "cell_type": "code",
      "execution_count": 9,
      "metadata": {
        "id": "09r1FMtN6USi"
      },
      "outputs": [
        {
          "name": "stdout",
          "output_type": "stream",
          "text": [
            "china: ['xiaomi', 'huawei']\n",
            "eua: ['apple', 'motorola']\n"
          ]
        }
      ],
      "source": [
        "fabricantes_mobile_china = fabricantes_mobile[0:2]\n",
        "fabricantes_mobile_eua = fabricantes_mobile[2:len(fabricantes_mobile)]\n",
        "\n",
        "print('china: ' + str(fabricantes_mobile_china))\n",
        "print('eua: ' + str(fabricantes_mobile_eua))\n"
      ]
    },
    {
      "cell_type": "markdown",
      "metadata": {
        "id": "WH9TnU_z7hUt"
      },
      "source": [
        "Podemos adicionar elementos a uma posição específica da lista:"
      ]
    },
    {
      "cell_type": "code",
      "execution_count": 10,
      "metadata": {
        "id": "DKYvexvX7p1_"
      },
      "outputs": [
        {
          "name": "stdout",
          "output_type": "stream",
          "text": [
            "['xiaomi', 'huawei', 'apple', 'motorola']\n"
          ]
        }
      ],
      "source": [
        "print(fabricantes_mobile)"
      ]
    },
    {
      "cell_type": "code",
      "execution_count": 11,
      "metadata": {
        "id": "eGYIk-vX8DQs"
      },
      "outputs": [
        {
          "name": "stdout",
          "output_type": "stream",
          "text": [
            "['xiaomi', 'huawei', 'nokia', 'motorola']\n"
          ]
        }
      ],
      "source": [
        "fabricantes_mobile[2] = 'nokia'\n",
        "print(fabricantes_mobile)"
      ]
    },
    {
      "cell_type": "markdown",
      "metadata": {
        "id": "8rRaHG5K6-h3"
      },
      "source": [
        "### **1.4. Métodos**"
      ]
    },
    {
      "cell_type": "markdown",
      "metadata": {
        "id": "LoHEI8EP7KSb"
      },
      "source": [
        "São métodos nativos do Python que nos ajudam a trabalhar no dia a dia com listas."
      ]
    },
    {
      "cell_type": "code",
      "execution_count": 12,
      "metadata": {
        "id": "O4Ke0FcG7Opv"
      },
      "outputs": [
        {
          "name": "stdout",
          "output_type": "stream",
          "text": [
            "[0.05, 0.07, 0.02, 0.04, 0.08]\n"
          ]
        }
      ],
      "source": [
        "juros = [0.05, 0.07, 0.02, 0.04, 0.08]\n",
        "print(juros)"
      ]
    },
    {
      "cell_type": "code",
      "execution_count": 13,
      "metadata": {
        "id": "1PIOTSXT8uT7"
      },
      "outputs": [
        {
          "name": "stdout",
          "output_type": "stream",
          "text": [
            "[0.1, 0.05, 0.07, 0.02, 0.04, 0.08]\n"
          ]
        }
      ],
      "source": [
        "# inserir um elemento sem substituir: list.insert(index, val)\n",
        "juros.insert(0, 0.10)\n",
        "print(juros)"
      ]
    },
    {
      "cell_type": "code",
      "execution_count": 14,
      "metadata": {
        "id": "-MMjKRzf9Ixy"
      },
      "outputs": [
        {
          "name": "stdout",
          "output_type": "stream",
          "text": [
            "[0.1, 0.05, 0.07, 0.02, 0.04, 0.08, 0.09]\n"
          ]
        }
      ],
      "source": [
        "# inserir um elemento no fim da lista: list.append(val)\n",
        "juros.append(0.09)\n",
        "print(juros)"
      ]
    },
    {
      "cell_type": "code",
      "execution_count": 15,
      "metadata": {
        "id": "PAfBwmkb9lF3"
      },
      "outputs": [
        {
          "name": "stdout",
          "output_type": "stream",
          "text": [
            "[0.05, 0.07, 0.02, 0.04, 0.08, 0.09]\n"
          ]
        }
      ],
      "source": [
        "# remover um elemento pelo valor: list.remove(val)\n",
        "juros.remove(0.1)\n",
        "print(juros)"
      ]
    },
    {
      "cell_type": "code",
      "execution_count": 16,
      "metadata": {
        "id": "E2rAo_0N9yp_"
      },
      "outputs": [
        {
          "name": "stdout",
          "output_type": "stream",
          "text": [
            "0.02\n"
          ]
        }
      ],
      "source": [
        "# remover um elemento pelo índice: list.pop(val)\n",
        "terceiro_juros = juros.pop(2)\n",
        "print(terceiro_juros)"
      ]
    },
    {
      "cell_type": "code",
      "execution_count": 22,
      "metadata": {
        "id": "cTZ-PpZjwrXh"
      },
      "outputs": [
        {
          "name": "stdout",
          "output_type": "stream",
          "text": [
            "[0.05, 0.07, 0.04, 0.08, 0.09]\n"
          ]
        }
      ],
      "source": [
        "print(juros)"
      ]
    },
    {
      "cell_type": "markdown",
      "metadata": {
        "id": "NaXePKHx-J0H"
      },
      "source": [
        "### **1.5. Conversão**"
      ]
    },
    {
      "cell_type": "markdown",
      "metadata": {
        "id": "nxiiMN---dLL"
      },
      "source": [
        "Podemos converter alguns tipos de variáveis em listas, como *strings*."
      ]
    },
    {
      "cell_type": "code",
      "execution_count": 23,
      "metadata": {
        "id": "DgZyBHJn-TWi"
      },
      "outputs": [
        {
          "name": "stdout",
          "output_type": "stream",
          "text": [
            "andre.perez@gmail.com\n",
            "['a', 'n', 'd', 'r', 'e', '.', 'p', 'e', 'r', 'e', 'z', '@', 'g', 'm', 'a', 'i', 'l', '.', 'c', 'o', 'm']\n"
          ]
        }
      ],
      "source": [
        "email = 'andre.perez@gmail.com'\n",
        "caracteres_email = list(email)\n",
        "\n",
        "print(email)\n",
        "print(caracteres_email)"
      ]
    },
    {
      "cell_type": "markdown",
      "metadata": {
        "id": "hV8sOC7uSQsy"
      },
      "source": [
        "### **1.6. Revisitando a motivação** "
      ]
    },
    {
      "cell_type": "code",
      "execution_count": 24,
      "metadata": {
        "id": "oov-ZttEBTJi"
      },
      "outputs": [],
      "source": [
        "dia_11_saldo_inicial = 1000"
      ]
    },
    {
      "cell_type": "code",
      "execution_count": 25,
      "metadata": {
        "id": "QBK9CvnkBWAh"
      },
      "outputs": [
        {
          "name": "stdout",
          "output_type": "stream",
          "text": [
            "[243, -798.58, 427.12, -10.91]\n"
          ]
        }
      ],
      "source": [
        "dia_11_transacoes = []\n",
        "\n",
        "dia_11_transacoes.append(243)\n",
        "dia_11_transacoes.append(-798.58)\n",
        "dia_11_transacoes.append(427.12)\n",
        "dia_11_transacoes.append(-10.91)\n",
        "\n",
        "print(dia_11_transacoes)"
      ]
    },
    {
      "cell_type": "code",
      "execution_count": 30,
      "metadata": {
        "id": "3WIhTJkvBnn_"
      },
      "outputs": [
        {
          "name": "stdout",
          "output_type": "stream",
          "text": [
            "860.63\n",
            "860.63\n"
          ]
        }
      ],
      "source": [
        "dia_11_saldo_final = dia_11_saldo_inicial + dia_11_transacoes[0] + dia_11_transacoes[1] + dia_11_transacoes[2] + dia_11_transacoes[3]\n",
        "print(dia_11_saldo_final)\n",
        "\n",
        "balance = dia_11_saldo_inicial\n",
        "\n",
        "for i in range(0, dia_11_transacoes.__len__()):\n",
        "    balance += dia_11_transacoes[i]\n",
        "\n",
        "print(f\"{balance}\")"
      ]
    },
    {
      "cell_type": "markdown",
      "metadata": {},
      "source": [
        "## 1.7 List Comprehension\n",
        "\n",
        "This is a shorthand syntax to create a list from other list. This is similar to the `.map()` from JS.\n",
        "\n",
        "The syntax is\n",
        "\n",
        "```python\n",
        "newlist = [expression for item in iterable if condition == True]\n",
        "```"
      ]
    },
    {
      "cell_type": "code",
      "execution_count": 63,
      "metadata": {},
      "outputs": [
        {
          "name": "stdout",
          "output_type": "stream",
          "text": [
            "[1, 2, 3, 4, 5, 6, 7, 8, 9, 10]\n",
            "[1, 4, 9, 16, 25, 36, 49, 64, 81, 100]\n",
            "[8, 64, 216, 512, 1000]\n",
            "[5, 15, 25, 35, 45]\n"
          ]
        }
      ],
      "source": [
        "# Example\n",
        "list_numbers = [1,2,3,4,5,6,7,8,9,10]\n",
        "print(list_numbers)\n",
        "\n",
        "all_squared = [x**2 for x in list_numbers]\n",
        "print(all_squared)\n",
        "\n",
        "even_cubed = [x**3 for x in list_numbers if x % 2 == 0]\n",
        "print(even_cubed)\n",
        "\n",
        "odd_multiplied_by_5 = [x * 5 for x in list_numbers if x % 2 != 0]\n",
        "print(odd_multiplied_by_5)"
      ]
    },
    {
      "cell_type": "markdown",
      "metadata": {
        "id": "4rRCvy_UURrM"
      },
      "source": [
        "## 2\\. Conjuntos"
      ]
    },
    {
      "cell_type": "markdown",
      "metadata": {
        "id": "Y1W9Hv8fURrZ"
      },
      "source": [
        "### **2.1. Motivação** "
      ]
    },
    {
      "cell_type": "markdown",
      "metadata": {
        "id": "yui33vLXavm9"
      },
      "source": [
        "Você trabalha como analista de dados de mídias sociais e precisa descobrir todas as *hashtags* que alcançaram o *top trending* do Twitter durante uma semana. Você já conseguiu as *hashtags* por dia da semana:"
      ]
    },
    {
      "cell_type": "code",
      "execution_count": 31,
      "metadata": {
        "id": "EK9_cpdLbgUR"
      },
      "outputs": [],
      "source": [
        "hashtags_seg = ['#tiago', '#joao', '#bbb']\n",
        "hashtags_ter = ['#sarah', '#bbb', '#fiuk']\n",
        "hashtags_qua = ['#gil', '#thelma', '#lourdes']\n",
        "hashtags_qui = ['#rafa', '#fora', '#danilo']\n",
        "hashtags_sex = ['#juliete', '#arthur', '#bbb']"
      ]
    },
    {
      "cell_type": "markdown",
      "metadata": {
        "id": "poe2mVAlcIeB"
      },
      "source": [
        "Um simples concateção de listas fará com que a *hashtag* #bbb, entre outras, apareça mais de uma vez."
      ]
    },
    {
      "cell_type": "code",
      "execution_count": 32,
      "metadata": {
        "id": "fGIykxP8cTZ5"
      },
      "outputs": [
        {
          "name": "stdout",
          "output_type": "stream",
          "text": [
            "['#tiago', '#joao', '#bbb', '#sarah', '#bbb', '#fiuk', '#gil', '#thelma', '#lourdes', '#rafa', '#fora', '#danilo', '#juliete', '#arthur', '#bbb']\n"
          ]
        }
      ],
      "source": [
        "hashtags_semana = hashtags_seg + hashtags_ter + hashtags_qua + hashtags_qui + hashtags_sex\n",
        "print(hashtags_semana)"
      ]
    },
    {
      "cell_type": "markdown",
      "metadata": {
        "id": "cOZDKbe6URrb"
      },
      "source": [
        "### **2.2. Definição** "
      ]
    },
    {
      "cell_type": "markdown",
      "metadata": {
        "id": "B9Bux1n0C2Hd"
      },
      "source": [
        "Armazenam sequências imutáveis e desordenadas valores, sem repetição. São do tipo `set`:"
      ]
    },
    {
      "cell_type": "code",
      "execution_count": 33,
      "metadata": {
        "id": "_QL3pDMAE5oV"
      },
      "outputs": [
        {
          "name": "stdout",
          "output_type": "stream",
          "text": [
            "{'uva', 'maca', 'banana'}\n",
            "<class 'set'>\n"
          ]
        }
      ],
      "source": [
        "frutas = {'banana', 'maca', 'uva', 'uva'}\n",
        "\n",
        "print(frutas)\n",
        "print(type(frutas))"
      ]
    },
    {
      "cell_type": "markdown",
      "metadata": {
        "id": "5q6xcwOWURrc"
      },
      "source": [
        "### **2.3. Operações** "
      ]
    },
    {
      "cell_type": "markdown",
      "metadata": {
        "id": "VjckMGhefqbI"
      },
      "source": [
        "As operações da estrutura do tipo *set* são:\n",
        "\n",
        "\n",
        "*   `-` (diferença)."
      ]
    },
    {
      "cell_type": "markdown",
      "metadata": {
        "id": "8t5unixyf2PQ"
      },
      "source": [
        "**Exemplo**: Países da europa."
      ]
    },
    {
      "cell_type": "code",
      "execution_count": 34,
      "metadata": {
        "id": "sDM_I9xff1as"
      },
      "outputs": [],
      "source": [
        "norte_europa = {'reino unido', 'suecia', 'russia', 'noruega', 'dinamarca'}\n",
        "escandinavia = {'noruega', 'dinamarca', 'suecia'}"
      ]
    },
    {
      "cell_type": "code",
      "execution_count": 35,
      "metadata": {
        "id": "nibhXuPHgD4I"
      },
      "outputs": [
        {
          "name": "stdout",
          "output_type": "stream",
          "text": [
            "{'reino unido', 'russia'}\n"
          ]
        }
      ],
      "source": [
        "norte_europa_nao_escandinavo = norte_europa - escandinavia\n",
        "print(norte_europa_nao_escandinavo)"
      ]
    },
    {
      "cell_type": "code",
      "execution_count": 36,
      "metadata": {
        "id": "UjsDawmDgoVD"
      },
      "outputs": [
        {
          "name": "stdout",
          "output_type": "stream",
          "text": [
            "set()\n"
          ]
        }
      ],
      "source": [
        "escandivano_nao_norte_europa = escandinavia - norte_europa\n",
        "print(escandivano_nao_norte_europa)"
      ]
    },
    {
      "cell_type": "markdown",
      "metadata": {
        "id": "DK2jQGirhGWS"
      },
      "source": [
        "### **2.4. Métodos**"
      ]
    },
    {
      "cell_type": "markdown",
      "metadata": {
        "id": "A6cE9_1GhGWd"
      },
      "source": [
        "São métodos nativos do Python que nos ajudam a trabalhar no dia a dia com conjuntos."
      ]
    },
    {
      "cell_type": "code",
      "execution_count": 37,
      "metadata": {
        "id": "IW0jfAUmhGWd"
      },
      "outputs": [
        {
          "name": "stdout",
          "output_type": "stream",
          "text": [
            "{'Biológicas', 'Humanas', 'Exatas'}\n"
          ]
        }
      ],
      "source": [
        "cursos = {'Exatas', 'Humanas', 'Biológicas'}\n",
        "print(cursos)"
      ]
    },
    {
      "cell_type": "code",
      "execution_count": 38,
      "metadata": {
        "id": "hJDBambLhGWe"
      },
      "outputs": [
        {
          "name": "stdout",
          "output_type": "stream",
          "text": [
            "{'Saúde', 'Biológicas', 'Humanas', 'Exatas'}\n"
          ]
        }
      ],
      "source": [
        "# inserir um elemento no conjunto: set.add(val)\n",
        "cursos.add('Saúde')\n",
        "print(cursos)"
      ]
    },
    {
      "cell_type": "code",
      "execution_count": 39,
      "metadata": {
        "id": "2PW8RfTyhGWe"
      },
      "outputs": [
        {
          "name": "stdout",
          "output_type": "stream",
          "text": [
            "{'Biológicas', 'Humanas', 'Exatas'}\n"
          ]
        }
      ],
      "source": [
        "# remover um elemento no conjunto: set.remove(val)\n",
        "cursos.remove('Saúde')\n",
        "print(cursos)"
      ]
    },
    {
      "cell_type": "markdown",
      "metadata": {
        "id": "lR8W6YlthGWe"
      },
      "source": [
        "### **2.5. Conversão**"
      ]
    },
    {
      "cell_type": "markdown",
      "metadata": {
        "id": "FcIR2JcbhGWe"
      },
      "source": [
        "Podemos converter conjuntos para lista e vice e versa."
      ]
    },
    {
      "cell_type": "code",
      "execution_count": 40,
      "metadata": {
        "id": "XZU1XQZbhGWf"
      },
      "outputs": [
        {
          "name": "stdout",
          "output_type": "stream",
          "text": [
            "{'Santos', 'Corinthians', 'São Paulo', 'Palmeiras'}\n",
            "<class 'set'>\n"
          ]
        }
      ],
      "source": [
        "times_paulistas = {'São Paulo', 'Palmeiras', 'Corinthians', 'Santos'}\n",
        "\n",
        "print(times_paulistas)\n",
        "print(type(times_paulistas))"
      ]
    },
    {
      "cell_type": "code",
      "execution_count": 41,
      "metadata": {
        "id": "tBGFyE12iQ4O"
      },
      "outputs": [
        {
          "name": "stdout",
          "output_type": "stream",
          "text": [
            "['Santos', 'Corinthians', 'São Paulo', 'Palmeiras']\n",
            "<class 'list'>\n"
          ]
        }
      ],
      "source": [
        "print(list(times_paulistas))\n",
        "print(type(list(times_paulistas)))"
      ]
    },
    {
      "cell_type": "markdown",
      "metadata": {
        "id": "WxnG-e3HURrd"
      },
      "source": [
        "### **2.6. Revisitando a motivação** "
      ]
    },
    {
      "cell_type": "code",
      "execution_count": 42,
      "metadata": {
        "id": "LdF2ImcecyBI"
      },
      "outputs": [
        {
          "name": "stdout",
          "output_type": "stream",
          "text": [
            "['#tiago', '#joao', '#bbb', '#sarah', '#bbb', '#fiuk', '#gil', '#thelma', '#lourdes', '#rafa', '#fora', '#danilo', '#juliete', '#arthur', '#bbb']\n",
            "15\n"
          ]
        }
      ],
      "source": [
        "print(hashtags_semana)\n",
        "print(len(hashtags_semana))"
      ]
    },
    {
      "cell_type": "code",
      "execution_count": 43,
      "metadata": {
        "id": "7u48dmrPco9Q"
      },
      "outputs": [
        {
          "name": "stdout",
          "output_type": "stream",
          "text": [
            "['#arthur', '#thelma', '#tiago', '#danilo', '#fiuk', '#sarah', '#rafa', '#juliete', '#joao', '#fora', '#gil', '#bbb', '#lourdes']\n",
            "13\n"
          ]
        }
      ],
      "source": [
        "hashtags_semana = list(set(hashtags_seg + hashtags_ter + hashtags_qua + hashtags_qui + hashtags_sex))\n",
        "\n",
        "print(hashtags_semana)\n",
        "print(len(hashtags_semana))"
      ]
    },
    {
      "cell_type": "markdown",
      "metadata": {
        "id": "ELgoMRAAUSjv"
      },
      "source": [
        "## 3\\. Dicionários"
      ]
    },
    {
      "cell_type": "markdown",
      "metadata": {
        "id": "CuLkQY76USjw"
      },
      "source": [
        "### **3.1. Motivação** "
      ]
    },
    {
      "cell_type": "markdown",
      "metadata": {
        "id": "K5Wnzl1UdShI"
      },
      "source": [
        "Para se conectar a uma rede wi-fi, você precisa de duas informações: o nome da rede e a senha de acesso. Quando você vai acessar uma nova rede, você encontra uma lista de redes disponíveis: "
      ]
    },
    {
      "cell_type": "code",
      "execution_count": 64,
      "metadata": {
        "id": "Ah1dmE4Qdv-A"
      },
      "outputs": [
        {
          "name": "stdout",
          "output_type": "stream",
          "text": [
            "['rede1', 'cnx_cnx', 'uai-fi', 'r3d3']\n"
          ]
        }
      ],
      "source": [
        "wifi_disponiveis = ['rede1', 'cnx_cnx', 'uai-fi', 'r3d3']\n",
        "print(wifi_disponiveis)"
      ]
    },
    {
      "cell_type": "markdown",
      "metadata": {
        "id": "auR4rPNAeCgO"
      },
      "source": [
        "Você consegue identificar quais são os nome de redes e suas respectivas senhas? Talvez uma `list` não seja a melhor opção para armazenar esse tipo de dado."
      ]
    },
    {
      "cell_type": "markdown",
      "metadata": {
        "id": "JENLdmHkUSjx"
      },
      "source": [
        "### **3.2. Definição** "
      ]
    },
    {
      "cell_type": "markdown",
      "metadata": {
        "id": "U3lwWzl38zuT"
      },
      "source": [
        "Armazenam sequências no formato chave-valor. São do tipo `dict`.\n"
      ]
    },
    {
      "cell_type": "code",
      "execution_count": 65,
      "metadata": {
        "id": "OUR6zdcni2jS"
      },
      "outputs": [
        {
          "name": "stdout",
          "output_type": "stream",
          "text": [
            "{'capital': 'Brasília', 'idioma': 'Português', 'populacao': 210}\n",
            "<class 'dict'>\n"
          ]
        }
      ],
      "source": [
        "brasil = {'capital': 'Brasília', 'idioma': 'Português', 'populacao': 210}\n",
        "\n",
        "print(brasil)\n",
        "print(type(brasil))"
      ]
    },
    {
      "cell_type": "markdown",
      "metadata": {
        "id": "cPj56yhmIJg4"
      },
      "source": [
        "Não é permite chaves duplicadas."
      ]
    },
    {
      "cell_type": "code",
      "execution_count": 66,
      "metadata": {
        "id": "5a8o-NP4ITnd"
      },
      "outputs": [
        {
          "name": "stdout",
          "output_type": "stream",
          "text": [
            "{'marca': 'Volkswagen', 'modelo': 'Polo', 'ano': 2004}\n"
          ]
        }
      ],
      "source": [
        "carro = {\n",
        "    'marca': 'Volkswagen',\n",
        "    'modelo': 'Polo',\n",
        "    'ano': 2021,\n",
        "    'ano': 2004\n",
        "}\n",
        "\n",
        "print(carro)"
      ]
    },
    {
      "cell_type": "markdown",
      "metadata": {
        "id": "0tE9-pPrOIxH"
      },
      "source": [
        "Podemos criar dicionários compostos:"
      ]
    },
    {
      "cell_type": "code",
      "execution_count": 67,
      "metadata": {
        "id": "bTeSsI9FOO4h"
      },
      "outputs": [
        {
          "name": "stdout",
          "output_type": "stream",
          "text": [
            "{'andre': {'nome': 'Andre Perez', 'ano_nascimento': 1992, 'pais': {'pai': {'nome': '<nome-do-pai> Perez', 'ano_nascimento': 1971}, 'mae': {'nome': '<nome-da-mae> Perez', 'ano_nascimento': 1973}}}}\n"
          ]
        }
      ],
      "source": [
        "cadastro = {\n",
        "    'andre': {\n",
        "        'nome': 'Andre Perez', \n",
        "        'ano_nascimento': 1992, \n",
        "        'pais': {\n",
        "            'pai': {\n",
        "              'nome': '<nome-do-pai> Perez', \n",
        "              'ano_nascimento': 1971\n",
        "            },\n",
        "            'mae': {\n",
        "              'nome': '<nome-da-mae> Perez', \n",
        "              'ano_nascimento': 1973\n",
        "            },\n",
        "        }\n",
        "    }\n",
        "}\n",
        "\n",
        "print(cadastro)"
      ]
    },
    {
      "cell_type": "code",
      "execution_count": 74,
      "metadata": {
        "id": "hzJjKGtZ-DmB"
      },
      "outputs": [
        {
          "data": {
            "text/plain": [
              "1973"
            ]
          },
          "execution_count": 74,
          "metadata": {},
          "output_type": "execute_result"
        }
      ],
      "source": [
        "cadastro['andre']['pais']['mae']['ano_nascimento']"
      ]
    },
    {
      "cell_type": "markdown",
      "metadata": {
        "id": "qcHSzY6kUSjy"
      },
      "source": [
        "### **3.3. Operações** "
      ]
    },
    {
      "cell_type": "code",
      "execution_count": 69,
      "metadata": {
        "id": "XmfvRWVTKZLn"
      },
      "outputs": [],
      "source": [
        "credito = {'123': 750, '789': 980}"
      ]
    },
    {
      "cell_type": "markdown",
      "metadata": {
        "id": "RVwYx41eI6BT"
      },
      "source": [
        "Elementos são acessados pela sua chave."
      ]
    },
    {
      "cell_type": "code",
      "execution_count": 70,
      "metadata": {
        "id": "A05RBP9QKsgh"
      },
      "outputs": [
        {
          "name": "stdout",
          "output_type": "stream",
          "text": [
            "750\n",
            "980\n"
          ]
        }
      ],
      "source": [
        "score_123 = credito['123']\n",
        "score_789 = credito['789']\n",
        "\n",
        "print(score_123)\n",
        "print(score_789)"
      ]
    },
    {
      "cell_type": "markdown",
      "metadata": {
        "id": "OZYYChDVLEQm"
      },
      "source": [
        "Elementos são atualizados pela sua chave."
      ]
    },
    {
      "cell_type": "code",
      "execution_count": 75,
      "metadata": {
        "id": "crkXt8TzLfp2"
      },
      "outputs": [
        {
          "name": "stdout",
          "output_type": "stream",
          "text": [
            "{'123': 435, '789': 980}\n"
          ]
        }
      ],
      "source": [
        "credito['123'] = 435\n",
        "print(credito)"
      ]
    },
    {
      "cell_type": "markdown",
      "metadata": {
        "id": "pE_a-ii5L82k"
      },
      "source": [
        "Para adicionar um novo elemento, basta criar um novo elemento chave-valor:"
      ]
    },
    {
      "cell_type": "code",
      "execution_count": 76,
      "metadata": {
        "id": "Dq0mM6URMAe-"
      },
      "outputs": [
        {
          "name": "stdout",
          "output_type": "stream",
          "text": [
            "{'123': 435, '789': 980, '456': 1000}\n"
          ]
        }
      ],
      "source": [
        "credito['456'] = 1000\n",
        "print(credito)"
      ]
    },
    {
      "cell_type": "markdown",
      "metadata": {
        "id": "UCUO_UdUJPI8"
      },
      "source": [
        "### **3.4. Métodos**"
      ]
    },
    {
      "cell_type": "markdown",
      "metadata": {
        "id": "cncT52BYJVeD"
      },
      "source": [
        "São métodos nativos do Python que nos ajudam a trabalhar no dia a dia com dicionários."
      ]
    },
    {
      "cell_type": "code",
      "execution_count": 77,
      "metadata": {
        "id": "qwxwzPsTJcXn"
      },
      "outputs": [],
      "source": [
        "artigo = dict(\n",
        "    titulo='Modulo 02 | Python: Estruturas de Dados',\n",
        "    corpo='Topicos, Aulas, Listas, Conjuntos, Dicionários, ...',\n",
        "    total_caracteres=1530\n",
        ")"
      ]
    },
    {
      "cell_type": "code",
      "execution_count": 78,
      "metadata": {
        "id": "QZJ4D_eRNyc_"
      },
      "outputs": [
        {
          "name": "stdout",
          "output_type": "stream",
          "text": [
            "{'titulo': 'Modulo 02 | Python: Estruturas de Dados', 'corpo': 'Topicos, Aulas, Listas, Conjuntos, Dicionários, ...', 'total_caracteres': 1530}\n",
            "{'titulo': 'Modulo 02 | Python: Estruturas de Dados', 'corpo': 'Topicos, Aulas, Listas, Conjuntos, Dicionários, ...', 'total_caracteres': 7850}\n"
          ]
        }
      ],
      "source": [
        "# adicionar/atualizar um elemento pelo chave-valor: dict.update(dict)\n",
        "print(artigo)\n",
        "artigo.update({'total_caracteres': 7850})\n",
        "print(artigo)\n",
        "\n",
        "artigo['total_caracteres'] = 7850"
      ]
    },
    {
      "cell_type": "code",
      "execution_count": 79,
      "metadata": {
        "id": "ofz4lbceMx_4"
      },
      "outputs": [
        {
          "name": "stdout",
          "output_type": "stream",
          "text": [
            "{'titulo': 'Modulo 02 | Python: Estruturas de Dados', 'corpo': 'Topicos, Aulas, Listas, Conjuntos, Dicionários, ...', 'total_caracteres': 7850}\n",
            "{'titulo': 'Modulo 02 | Python: Estruturas de Dados', 'corpo': 'Topicos, Aulas, Listas, Conjuntos, Dicionários, ...'}\n"
          ]
        }
      ],
      "source": [
        "# remover um elemento pelo chave: dict.pop(key)\n",
        "print(artigo)\n",
        "total_caracteres = artigo.pop('total_caracteres')\n",
        "print(artigo)"
      ]
    },
    {
      "cell_type": "markdown",
      "metadata": {
        "id": "h0bXPXycjfpw"
      },
      "source": [
        "### **3.5. Conversão**"
      ]
    },
    {
      "cell_type": "markdown",
      "metadata": {
        "id": "CnzLEEYOjfp2"
      },
      "source": [
        "Podemos converter as chaves e os items de um dicionário em uma lista."
      ]
    },
    {
      "cell_type": "code",
      "execution_count": null,
      "metadata": {
        "id": "10CkP3RjkD9x"
      },
      "outputs": [],
      "source": [
        "artigo = dict(\n",
        "    titulo='Modulo 02 | Python: Estruturas de Dados',\n",
        "    corpo='Topicos, Aulas, Listas, Conjuntos, Dicionários, ...',\n",
        "    total_caracteres=1530\n",
        ")"
      ]
    },
    {
      "cell_type": "code",
      "execution_count": 80,
      "metadata": {
        "id": "bwmEXzxnjfp3"
      },
      "outputs": [
        {
          "name": "stdout",
          "output_type": "stream",
          "text": [
            "['titulo', 'corpo']\n",
            "<class 'list'>\n"
          ]
        }
      ],
      "source": [
        "chaves = list(artigo.keys())\n",
        "\n",
        "print(chaves)\n",
        "print(type(chaves))"
      ]
    },
    {
      "cell_type": "code",
      "execution_count": 81,
      "metadata": {
        "id": "UiP-UQxhjfp5"
      },
      "outputs": [
        {
          "name": "stdout",
          "output_type": "stream",
          "text": [
            "['Modulo 02 | Python: Estruturas de Dados', 'Topicos, Aulas, Listas, Conjuntos, Dicionários, ...']\n",
            "<class 'list'>\n"
          ]
        }
      ],
      "source": [
        "valores = list(artigo.values())\n",
        "\n",
        "print(valores)\n",
        "print(type(valores))"
      ]
    },
    {
      "cell_type": "markdown",
      "metadata": {
        "id": "Nq0WCx8HUSjz"
      },
      "source": [
        "### **3.6. Revisitando a motivação** "
      ]
    },
    {
      "cell_type": "code",
      "execution_count": 82,
      "metadata": {
        "id": "AZHrKx9ZesI5"
      },
      "outputs": [],
      "source": [
        "wifi_disponiveis = []"
      ]
    },
    {
      "cell_type": "code",
      "execution_count": 83,
      "metadata": {
        "id": "4y3-5GCGeZpR"
      },
      "outputs": [],
      "source": [
        "rede = {'nome': 'rede1', 'senha': 'cnx_cnx'}\n",
        "wifi_disponiveis.append(rede)"
      ]
    },
    {
      "cell_type": "code",
      "execution_count": 84,
      "metadata": {
        "id": "CPzYATO8ev7D"
      },
      "outputs": [],
      "source": [
        "rede = {'nome': 'uai-fi', 'senha': 'r3d3'}\n",
        "wifi_disponiveis.append(rede)"
      ]
    },
    {
      "cell_type": "code",
      "execution_count": 85,
      "metadata": {
        "id": "0YznnPL4e3H1"
      },
      "outputs": [
        {
          "name": "stdout",
          "output_type": "stream",
          "text": [
            "[{'nome': 'rede1', 'senha': 'cnx_cnx'}, {'nome': 'uai-fi', 'senha': 'r3d3'}]\n"
          ]
        }
      ],
      "source": [
        "print(wifi_disponiveis)"
      ]
    },
    {
      "cell_type": "code",
      "execution_count": 93,
      "metadata": {},
      "outputs": [
        {
          "name": "stdout",
          "output_type": "stream",
          "text": [
            "{'nome': 'Fábio', 'idade': 36, 'estudo': 'mestrado', 'sexo': 'masculino', 'altura': 180, 'peso': 115}\n",
            "x='nome' y='Fábio'\n",
            "x='idade' y=36\n",
            "x='estudo' y='mestrado'\n",
            "x='sexo' y='masculino'\n",
            "x='altura' y=180\n",
            "x='peso' y=115\n"
          ]
        },
        {
          "data": {
            "text/plain": [
              "[None, None, None, None, None, None]"
            ]
          },
          "execution_count": 93,
          "metadata": {},
          "output_type": "execute_result"
        }
      ],
      "source": [
        "my_dict = {\n",
        "    \"nome\": \"Fábio\",\n",
        "    \"idade\": 36,\n",
        "    \"estudo\": \"mestrado\",\n",
        "    \"sexo\": \"masculino\",\n",
        "    \"altura\": 180,\n",
        "    \"peso\": 115\n",
        "}\n",
        "\n",
        "print(my_dict)\n",
        "\n",
        "[print(f\"{x=} {y=}\") for (x, y) in my_dict.items()]"
      ]
    }
  ],
  "metadata": {
    "colab": {
      "collapsed_sections": [],
      "name": "module_2_class.ipynb",
      "provenance": [],
      "toc_visible": true
    },
    "kernelspec": {
      "display_name": "Python 3",
      "name": "python3"
    },
    "language_info": {
      "codemirror_mode": {
        "name": "ipython",
        "version": 3
      },
      "file_extension": ".py",
      "mimetype": "text/x-python",
      "name": "python",
      "nbconvert_exporter": "python",
      "pygments_lexer": "ipython3",
      "version": "3.12.6"
    }
  },
  "nbformat": 4,
  "nbformat_minor": 0
}
