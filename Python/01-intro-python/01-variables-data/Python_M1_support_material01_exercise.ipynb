{
  "cells": [
    {
      "cell_type": "markdown",
      "metadata": {
        "id": "KJqp9AANOCtf"
      },
      "source": [
        "<img src=\"https://raw.githubusercontent.com/andre-marcos-perez/ebac-course-utils/main/media/logo/newebac_logo_black_half.png\" alt=\"ebac-logo\">\n",
        "\n",
        "---\n",
        "\n",
        "# **Módulo** | Python: Variáveis & Tipos de Dados\n",
        "Caderno de **Exercícios**<br>\n",
        "Professor [André Perez](https://www.linkedin.com/in/andremarcosperez/)\n",
        "\n",
        "---"
      ]
    },
    {
      "cell_type": "markdown",
      "metadata": {
        "id": "d9jDtUbDOE1-"
      },
      "source": [
        "# **Tópicos**\n",
        "\n",
        "<ol type=\"1\">\n",
        "  <li>Introdução ao Google Colab;</li>\n",
        "  <li>Variáveis;</li>\n",
        "  <li>Números;</li>\n",
        "  <li><i>Strings;</i></li>\n",
        "  <li>Boleanos.</li>\n",
        "</ol>"
      ]
    },
    {
      "cell_type": "markdown",
      "metadata": {
        "id": "SmoHgt-lwkpD"
      },
      "source": [
        "---"
      ]
    },
    {
      "cell_type": "markdown",
      "metadata": {
        "id": "GABI6OW8OfQ2"
      },
      "source": [
        "# **Exercícios**"
      ]
    },
    {
      "cell_type": "markdown",
      "metadata": {
        "id": "muD1vxozykSC"
      },
      "source": [
        "## 1\\. Google Colab"
      ]
    },
    {
      "cell_type": "markdown",
      "metadata": {
        "id": "ahrFfCuBxJKs"
      },
      "source": [
        "Crie uma célula de código que escreva o texto \"Olá mundo!\", utilize o comando `print`."
      ]
    },
    {
      "cell_type": "markdown",
      "metadata": {
        "id": "KI9zQRT2xa7m"
      },
      "source": [
        "Crie uma célua de texto e adicione uma imagem."
      ]
    },
    {
      "cell_type": "markdown",
      "metadata": {
        "id": "PAXOLLuvrr2Y"
      },
      "source": [
        "## Respostas"
      ]
    },
    {
      "cell_type": "code",
      "execution_count": 1,
      "metadata": {
        "id": "RCF0hUBCrr2Y",
        "outputId": "39fdd2d8-45dd-46b4-e140-a6f1c2ee1a19"
      },
      "outputs": [
        {
          "name": "stdout",
          "output_type": "stream",
          "text": [
            "Olá mundo!\n"
          ]
        }
      ],
      "source": [
        "string = \"Olá mundo!\"\n",
        "print(string)"
      ]
    },
    {
      "cell_type": "markdown",
      "metadata": {
        "id": "LzQi2GGwrr2Z"
      },
      "source": [
        "Aqui está minha imagem\n",
        "<img src=\"https://drive.google.com/uc?export=view&id=1WcPVUWEbpSyctaSuknLEha23r1veED-y\" />\n",
        "\n",
        "![](https://drive.google.com/uc?export=view&id=1WcPVUWEbpSyctaSuknLEha23r1veED-y)\n",
        "\n",
        "<iframe src=\"https://drive.google.com/file/d/1WcPVUWEbpSyctaSuknLEha23r1veED-y/preview\" width=\"640\" height=\"480\" allow=\"autoplay\"></iframe>\n",
        "\n",
        "[Image Link](https://waverleysoftware.com/app/uploads/2020/05/Screenshot-2020-05-18-at-12.19.31-min.png)"
      ]
    },
    {
      "cell_type": "markdown",
      "metadata": {
        "id": "zMN1Q3jdwoJm"
      },
      "source": [
        "---"
      ]
    },
    {
      "cell_type": "markdown",
      "metadata": {
        "id": "tFYOPLS3xiwe"
      },
      "source": [
        "## 2\\. Números"
      ]
    },
    {
      "cell_type": "markdown",
      "metadata": {
        "id": "O2G9gt7tx2c-"
      },
      "source": [
        "Preencha as células de código para preencher os valores de (A), (B) e (C) na tabela de ticket médio abaixo:\n",
        "\n",
        "<br>\n",
        "\n",
        "| Dia   | Valor Total Vendas | Qtd Total Vendas | Ticket Medio |\n",
        "|-------|--------------------|------------------|--------------|\n",
        "| 19/01 | (A)                | 3                | 320.52       |\n",
        "| 20/01 | 834.47             | (B)              | 119.21       |\n",
        "| 23/01 | 15378.12           | 5                | (C)          |"
      ]
    },
    {
      "cell_type": "code",
      "execution_count": null,
      "metadata": {
        "id": "nsrKH9EizNRD",
        "outputId": "59a62c07-986a-4809-f38f-d6d20f47a972"
      },
      "outputs": [
        {
          "name": "stdout",
          "output_type": "stream",
          "text": [
            "total_sell_value_19 = 961.56\n"
          ]
        }
      ],
      "source": [
        "# (A)\n",
        "total_sell_19 = 3\n",
        "average_ticket_19 = 320.52\n",
        "total_sell_value_19 = total_sell_19 * average_ticket_19\n",
        "\n",
        "print(f\"{total_sell_value_19 = }\")"
      ]
    },
    {
      "cell_type": "code",
      "execution_count": null,
      "metadata": {
        "id": "QQ1GBGHJzMmi",
        "outputId": "daf57c86-c337-40bf-bc18-595be810fcf3"
      },
      "outputs": [
        {
          "name": "stdout",
          "output_type": "stream",
          "text": [
            "total_sell_20 =7\n"
          ]
        }
      ],
      "source": [
        "# (B)\n",
        "total_sell_value_20 = 834.47\n",
        "average_ticket_20 = 119.21\n",
        "total_sell_20 = total_sell_value_20 / average_ticket_20\n",
        "\n",
        "print(f\"total_sell_20 ={int(total_sell_20)}\")"
      ]
    },
    {
      "cell_type": "code",
      "execution_count": null,
      "metadata": {
        "id": "W-li0nSMzKNa",
        "outputId": "a7e79bd4-f3ff-49b1-d280-fef501d0b5ea"
      },
      "outputs": [
        {
          "name": "stdout",
          "output_type": "stream",
          "text": [
            "average_ticket_23 = 3075.62\n"
          ]
        }
      ],
      "source": [
        "# (C)\n",
        "total_sell_value_23 = 15378.12\n",
        "total_sell_23 = 5\n",
        "average_ticket_23 = total_sell_value_23 / total_sell_23\n",
        "\n",
        "print(f\"{average_ticket_23 = :.2f}\")"
      ]
    },
    {
      "cell_type": "markdown",
      "metadata": {
        "id": "3eoP-Vj9yzh8"
      },
      "source": [
        "---"
      ]
    },
    {
      "cell_type": "markdown",
      "metadata": {
        "id": "yUJ6kdony6Pr"
      },
      "source": [
        "## 3\\. Strings"
      ]
    },
    {
      "cell_type": "markdown",
      "metadata": {
        "id": "KDuZpg-5zCvO"
      },
      "source": [
        "Aplique três métodos distintos na *string* abaixo, você pode conferir alguns métodos neste [link](https://www.w3schools.com/python/python_ref_string.asp):"
      ]
    },
    {
      "cell_type": "code",
      "execution_count": null,
      "metadata": {
        "id": "k9zbyf7BzjKj",
        "outputId": "46ed9fb6-d8c9-4e96-cf85-34172f2c3680"
      },
      "outputs": [
        {
          "name": "stdout",
          "output_type": "stream",
          "text": [
            "All first letters in uppercase: Roda Mundo, Roda Gigante, Roda Moinho, Roda Pião.\n",
            "Replacing 'mundo' by 'universo': Roda universo, roda gigante, roda moinho, roda pião.\n",
            "Splitting the phrase at any comma ',': ['Roda mundo', ' roda gigante', ' roda moinho', ' roda pião.']\n"
          ]
        }
      ],
      "source": [
        "cancao = 'Roda mundo, roda gigante, roda moinho, roda pião.'\n",
        "\n",
        "print(f\"All first letters in uppercase: {cancao.title()}\")\n",
        "print(f\"Replacing 'mundo' by 'universo': {cancao.replace(\"mundo\", \"universo\")}\")\n",
        "print(f\"Splitting the phrase at any comma ',': {cancao.split(\",\")}\")"
      ]
    },
    {
      "cell_type": "markdown",
      "metadata": {
        "id": "guZMHXVq0FnC"
      },
      "source": [
        "Extraia da string abaixo o valor da taxa **selic** na variável `selic` e o valor do **ano** na variavel `ano`. Imprima os valores na tela."
      ]
    },
    {
      "cell_type": "code",
      "execution_count": null,
      "metadata": {
        "id": "cbx_P4IQ0agK",
        "outputId": "7fc8b7b2-a876-41a5-98c7-fdc7196aab26"
      },
      "outputs": [
        {
          "name": "stdout",
          "output_type": "stream",
          "text": [
            "Taxa selic: 2,75%\n",
            "Ano: 6\n"
          ]
        }
      ],
      "source": [
        "noticia = 'Selic vai a 2,75% e supera expectativas; é a primeira alta em 6 anos.'\n",
        "\n",
        "selic = noticia[noticia.find(\"2\"):noticia.find(\"%\")+1]\n",
        "ano = noticia[-7];\n",
        "\n",
        "print(f\"Taxa selic: {selic}\")\n",
        "print(f\"Ano: {ano}\")\n"
      ]
    },
    {
      "cell_type": "markdown",
      "metadata": {
        "id": "wWzbu-OC0z3L"
      },
      "source": [
        "---"
      ]
    },
    {
      "cell_type": "markdown",
      "metadata": {
        "id": "no8w_Ati01xP"
      },
      "source": [
        "## 4\\. Booleanos"
      ]
    },
    {
      "cell_type": "markdown",
      "metadata": {
        "id": "D_0tC3SC099N"
      },
      "source": [
        "Utilize a tabela da verdade para responder: qual o valor da variável x?"
      ]
    },
    {
      "cell_type": "code",
      "execution_count": null,
      "metadata": {
        "id": "XwIEbxf91SpU"
      },
      "outputs": [],
      "source": [
        "a = False\n",
        "b = True\n",
        "\n",
        "x = not a & b"
      ]
    },
    {
      "cell_type": "markdown",
      "metadata": {
        "id": "cx61M2W_rr2b"
      },
      "source": [
        "According the following truth table, we can infer that the value for `x` will be `True`.\n",
        "\n",
        "| a | b | not a | not a & b |\n",
        "|---|---|-------|-----------|\n",
        "| F | T | T | T |"
      ]
    }
  ],
  "metadata": {
    "colab": {
      "provenance": []
    },
    "kernelspec": {
      "display_name": "Python 3",
      "name": "python3"
    },
    "language_info": {
      "codemirror_mode": {
        "name": "ipython",
        "version": 3
      },
      "file_extension": ".py",
      "mimetype": "text/x-python",
      "name": "python",
      "nbconvert_exporter": "python",
      "pygments_lexer": "ipython3",
      "version": "3.12.6"
    }
  },
  "nbformat": 4,
  "nbformat_minor": 0
}
