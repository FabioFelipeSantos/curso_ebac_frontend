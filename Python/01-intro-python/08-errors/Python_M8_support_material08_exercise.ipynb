{
  "cells": [
    {
      "cell_type": "markdown",
      "metadata": {
        "id": "KJqp9AANOCtf"
      },
      "source": [
        "<img src=\"https://raw.githubusercontent.com/andre-marcos-perez/ebac-course-utils/main/media/logo/newebac_logo_black_half.png\" alt=\"ebac-logo\">\n",
        "\n",
        "---\n",
        "\n",
        "# **Módulo 08** | Python: Tratamento de Erros\n",
        "\n",
        "Caderno de **Exercícios**<br>\n",
        "Professor [André Perez](https://www.linkedin.com/in/andremarcosperez/)\n",
        "\n",
        "---\n"
      ]
    },
    {
      "cell_type": "markdown",
      "metadata": {
        "id": "d9jDtUbDOE1-"
      },
      "source": [
        "# **Tópicos**\n",
        "\n",
        "<ol type=\"1\">\n",
        "  <li>Tipos de erros;</li>\n",
        "  <li>Erros de sintaxe;</li>\n",
        "  <li>Erros em tempo de execução.</li>\n",
        "</ol>\n"
      ]
    },
    {
      "cell_type": "markdown",
      "metadata": {
        "id": "SmoHgt-lwkpD"
      },
      "source": [
        "---\n"
      ]
    },
    {
      "cell_type": "markdown",
      "metadata": {
        "id": "GABI6OW8OfQ2"
      },
      "source": [
        "# **Exercícios**\n"
      ]
    },
    {
      "cell_type": "markdown",
      "metadata": {
        "id": "muD1vxozykSC"
      },
      "source": [
        "## 1\\. Erros de sintaxe\n"
      ]
    },
    {
      "cell_type": "markdown",
      "metadata": {
        "id": "ahrFfCuBxJKs"
      },
      "source": [
        "Identifique o erro de sintaxe nos trechos de código abaixo e corrija-os para que o trecho de código funcione.\n"
      ]
    },
    {
      "cell_type": "markdown",
      "metadata": {
        "id": "sCluir52-zGM"
      },
      "source": [
        "-   Laços de repetição.\n"
      ]
    },
    {
      "cell_type": "markdown",
      "metadata": {
        "id": "QwTabZhzkqbJ"
      },
      "source": [
        "<em>Nesse exemplo tivemos um erro na abertura e fechamento das aspas para a string formatada. Foi aberto uma aspas simples e fechado uma dupla. Corrigi alterando a primeira aspas para duplas também.</em>\n"
      ]
    },
    {
      "cell_type": "code",
      "execution_count": 15,
      "metadata": {
        "colab": {
          "base_uri": "https://localhost:8080/"
        },
        "id": "eebFnvGd-zSC",
        "outputId": "63527458-db20-4630-a36a-64768ea80734"
      },
      "outputs": [
        {
          "name": "stdout",
          "output_type": "stream",
          "text": [
            "Para o documento 123, o valor do escore de crédito é 750.\n",
            "Para o documento 456, o valor do escore de crédito é 812.\n",
            "Para o documento 789, o valor do escore de crédito é 980.\n"
          ]
        }
      ],
      "source": [
        "credito = {\"123\": 750, \"456\": 812, \"789\": 980}\n",
        "\n",
        "for chave, valor in credito.items():\n",
        "    print(f\"Para o documento {chave}, o valor do escore de crédito é {valor}.\")"
      ]
    },
    {
      "cell_type": "markdown",
      "metadata": {
        "id": "NKDaQYt889VZ"
      },
      "source": [
        "-   Funções\n"
      ]
    },
    {
      "cell_type": "markdown",
      "metadata": {
        "id": "Ba1wbtWakqbL"
      },
      "source": [
        "<em>Aqui a sintaxe estava errada na tipagem da saída da função `pi()`. Foi utilizado \"-->\" (dois hifens mais símbolo maior) ao invés de apenas \"->\" (um hífen mais símbolo maior). Corrigido para a forma correta.</em>"
      ]
    },
    {
      "cell_type": "code",
      "execution_count": 16,
      "metadata": {
        "colab": {
          "base_uri": "https://localhost:8080/"
        },
        "id": "GZHnCmRH89hg",
        "outputId": "c56a0b78-1f16-44d1-d00d-ff4ad94dbb0a"
      },
      "outputs": [
        {
          "name": "stdout",
          "output_type": "stream",
          "text": [
            "3.14159265359\n"
          ]
        }
      ],
      "source": [
        "def pi() -> float:\n",
        "    return 3.14159265359\n",
        "\n",
        "\n",
        "pi = pi()\n",
        "print(pi)"
      ]
    },
    {
      "cell_type": "markdown",
      "metadata": {
        "id": "i6EIHmQZ8KMy"
      },
      "source": [
        "-   Programação Funcional\n"
      ]
    },
    {
      "cell_type": "markdown",
      "metadata": {
        "id": "GKu1Ph8qkqbL"
      },
      "source": [
        "<em>Aqui na definição da função lambda, queremos verificar se a string `\"gmail\"` está presente no e-mail que vem da lista de e-mails. Porém, ao colocar `string in array`, na string foi aberta somente aspas simples. Corrigi fechando com aspas simples e assim deixando claro que `gmail` nesse contexto é uma string.</em>"
      ]
    },
    {
      "cell_type": "code",
      "execution_count": 17,
      "metadata": {
        "colab": {
          "base_uri": "https://localhost:8080/"
        },
        "id": "_1a3EEYU8JsU",
        "outputId": "8170a53c-d82b-4aea-9824-46d0a06aef6f"
      },
      "outputs": [
        {
          "name": "stdout",
          "output_type": "stream",
          "text": [
            "['andre.perez@gmail.com']\n"
          ]
        }
      ],
      "source": [
        "emails = ['andre.perez@gmail.com', 'andre.perez@live.com', 'andre.perez@yahoo.com']\n",
        "provedor_da_google = lambda email: 'gmail' in email\n",
        "\n",
        "emails_google = filter(provedor_da_google, emails)\n",
        "print(list(emails_google))"
      ]
    },
    {
      "cell_type": "markdown",
      "metadata": {
        "id": "KI9zQRT2xa7m"
      },
      "source": [
        "-   Programação orientação a objetos\n"
      ]
    },
    {
      "cell_type": "markdown",
      "metadata": {
        "id": "ZnemUEn4kqbM"
      },
      "source": [
        "<em>Aqui temos dois problemas:\n",
        "  <ol>\n",
        "    <li>Faltou uma vírgula \",\" na separação dos argumentos `self` e `nome` da função inicializadora da classe. Corrigido adicionando a referida vírgula.</li>\n",
        "    <li>O último parâmetro na definição da classe é `documento`. Na instância `andre` do objeto `Pessoa`, um `kargs` foi utilizado com a chave `document`, que não pertence à inicialização da classe. Corrigido na instância para `documento`</li>\n",
        "  </ol>\n",
        "</em>"
      ]
    },
    {
      "cell_type": "code",
      "execution_count": 18,
      "metadata": {
        "colab": {
          "base_uri": "https://localhost:8080/"
        },
        "id": "XD-C996C7gvN",
        "outputId": "e2d7ea8a-b59b-4163-b3bd-9476452dfc4d"
      },
      "outputs": [
        {
          "name": "stdout",
          "output_type": "stream",
          "text": [
            "Nome: Andre, idade: 30, documento: 123\n"
          ]
        }
      ],
      "source": [
        "class Pessoa(object):\n",
        "\n",
        "    def __init__(self, nome: str, idade: int, documento: str):\n",
        "        self.nome = nome\n",
        "        self.idade = idade\n",
        "        self.documento = documento\n",
        "\n",
        "    def __str__(self):\n",
        "        return f\"Nome: {self.nome}, idade: {self.idade}, documento: {self.documento}\"\n",
        "\n",
        "andre = Pessoa(nome=\"Andre\", idade=30, documento=\"123\")\n",
        "print(andre)"
      ]
    },
    {
      "cell_type": "markdown",
      "metadata": {
        "id": "zMN1Q3jdwoJm"
      },
      "source": [
        "---\n"
      ]
    },
    {
      "cell_type": "markdown",
      "metadata": {
        "id": "qh4asQbf6dBX"
      },
      "source": [
        "## 2\\. Erros em tempo de execução\n"
      ]
    },
    {
      "cell_type": "markdown",
      "metadata": {
        "id": "71iuLvVJ6dB-"
      },
      "source": [
        "Neste exercício vamos trabalhar com o arquivo csv com dados de crédito, definido abaixo. Execute cada uma das células de código para escrever os arquivos na sua máquina virtual.\n"
      ]
    },
    {
      "cell_type": "code",
      "execution_count": 19,
      "metadata": {
        "colab": {
          "base_uri": "https://localhost:8080/"
        },
        "id": "FCBXZUQd3frz",
        "outputId": "4a1840b7-cbf3-4a1c-d25e-ebd4e461a924"
      },
      "outputs": [
        {
          "name": "stdout",
          "output_type": "stream",
          "text": [
            "Overwriting credito.csv\n"
          ]
        }
      ],
      "source": [
        "%%writefile credito.csv\n",
        "id_vendedor,valor_emprestimos,quantidade_emprestimos,data\n",
        "104271,448.0,1,20161208\n",
        "21476,826.7,3,20161208\n",
        "87440,313.6,3,20161208\n",
        "15980,808.0,6,20161208\n",
        "215906,2212.0,5,20161208\n",
        "33696,2771.3,2,20161208\n",
        "33893,2240.0,3,20161208\n",
        "214946,\"4151.0\",18,20161208\n",
        "123974,2021.95,2,20161208\n",
        "225870,4039.0,2,20161208"
      ]
    },
    {
      "cell_type": "markdown",
      "metadata": {
        "id": "FIe14G9H3779"
      },
      "source": [
        "O código abaixo deve calcular o total emprestado por cada vendedor mas está \"estourando\" a exceção `ValueError` devido a um erro no conjunto de dados. Utilize a estrutura `try-catch` para garantir que o código seja executado com sucesso.\n",
        "\n",
        "**Atenção:** Você não deve alterar o arquivo de dados.\n"
      ]
    },
    {
      "cell_type": "code",
      "execution_count": 16,
      "metadata": {
        "colab": {
          "base_uri": "https://localhost:8080/"
        },
        "id": "cOkNYOdd5GMK",
        "outputId": "72dcd281-f3b2-4088-e82f-9116a237615c"
      },
      "outputs": [
        {
          "name": "stdout",
          "output_type": "stream",
          "text": [
            "Não foi possível converter os valores do empréstimo 214946. Confira a exceção: could not convert string to float: '\"4151.0\"'\n",
            "Corrigindo valor: valor corrigido = 4151.0, no tipo <class 'float'>\n",
            "\n",
            "Lista final de valores:\n",
            "{'104271': 448.0}\n",
            "{'21476': 2480.1}\n",
            "{'87440': 940.8}\n",
            "{'15980': 4848.0}\n",
            "{'215906': 11060.0}\n",
            "{'33696': 5542.6}\n",
            "{'33893': 6720.0}\n",
            "{'214946': 74718.0}\n",
            "{'123974': 4043.9}\n",
            "{'225870': 8078.0}\n"
          ]
        }
      ],
      "source": [
        "def valor_total_emprestimo(valor: float, quantidade: int) -> float:\n",
        "    return round(valor * quantidade, 2)\n",
        "\n",
        "\n",
        "emprestimos = []\n",
        "\n",
        "with open(file=\"./credito.csv\", mode=\"r\", encoding=\"utf8\") as fp:\n",
        "    fp.readline()  # cabeçalho\n",
        "    linha = fp.readline()\n",
        "\n",
        "    while linha:\n",
        "        linha_emprestimo = {}\n",
        "        linha_elementos = linha.strip().split(sep=\",\")\n",
        "        linha_emprestimo[\"id_vendedor\"] = linha_elementos[0]\n",
        "        linha_emprestimo[\"data\"] = linha_elementos[3]\n",
        "\n",
        "        try:\n",
        "            valor_emprestimos = float(linha_elementos[1])\n",
        "        except ValueError as exc:\n",
        "            print(f\"Não foi possível converter os valores do empréstimo {linha_emprestimo['id_vendedor']}. Confira a exceção: {exc}\\nCorrigindo valor: \", end=\"\")\n",
        "            \n",
        "            valor_emprestimos = float(linha_elementos[1][1:-1])\n",
        "            \n",
        "            print(f\"valor corrigido = {valor_emprestimos}, no tipo {type(valor_emprestimos)}\\n\")\n",
        "            \n",
        "        finally:\n",
        "            quantidade_emprestimos = int(linha_elementos[2])\n",
        "            linha_emprestimo[\"valor_emprestimos\"] = valor_emprestimos\n",
        "            linha_emprestimo[\"quantidade_emprestimos\"] = quantidade_emprestimos\n",
        "            emprestimos.append(linha_emprestimo)\n",
        "            linha = fp.readline()\n",
        "\n",
        "emprestimos_total = []\n",
        "\n",
        "for emprestimo in emprestimos:\n",
        "    try:\n",
        "        valor = emprestimo[\"valor_emprestimos\"]\n",
        "        quantidade = emprestimo[\"quantidade_emprestimos\"]\n",
        "    except KeyError as exc:\n",
        "        print(f\"Não foi possível encontrar o valor para o empréstimo com id: {emprestimo['id_vendedor']}\")\n",
        "    else:\n",
        "        valor_total = valor_total_emprestimo(valor=valor,quantidade=quantidade,)\n",
        "        emprestimos_total.append({emprestimo[\"id_vendedor\"]: valor_total})\n",
        "\n",
        "print(\"Lista final de valores:\")\n",
        "for emprestimo_total in emprestimos_total:\n",
        "    print(emprestimo_total)"
      ]
    },
    {
      "cell_type": "markdown",
      "metadata": {
        "id": "Baj2HJRikqbN"
      },
      "source": [
        "---"
      ]
    },
    {
      "cell_type": "markdown",
      "metadata": {
        "id": "0dKgZEQB8ZwP"
      },
      "source": [
        "O resultado final deve ser a impressão da seguinte lista:\n",
        "\n",
        "```\n",
        "{'104271': 448.0}\n",
        "{'21476': 2480.1000000000004}\n",
        "{'87440': 940.8000000000001}\n",
        "{'15980': 4848.0}\n",
        "{'215906': 11060.0}\n",
        "{'33696': 5542.6}\n",
        "{'33893': 6720.0}\n",
        "{'214946': 74718.0}\n",
        "{'123974': 4043.9}\n",
        "{'225870': 8078.0}\n",
        "```\n"
      ]
    },
    {
      "cell_type": "markdown",
      "metadata": {
        "id": "zkqY6ImS6dCB"
      },
      "source": [
        "---\n"
      ]
    }
  ],
  "metadata": {
    "colab": {
      "provenance": [],
      "toc_visible": true
    },
    "kernelspec": {
      "display_name": "Python 3",
      "name": "python3"
    },
    "language_info": {
      "codemirror_mode": {
        "name": "ipython",
        "version": 3
      },
      "file_extension": ".py",
      "mimetype": "text/x-python",
      "name": "python",
      "nbconvert_exporter": "python",
      "pygments_lexer": "ipython3",
      "version": "3.13.1"
    }
  },
  "nbformat": 4,
  "nbformat_minor": 0
}
