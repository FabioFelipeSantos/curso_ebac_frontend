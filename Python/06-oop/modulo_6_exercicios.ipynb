{
  "cells": [
    {
      "cell_type": "markdown",
      "metadata": {
        "id": "KJqp9AANOCtf"
      },
      "source": [
        "<img src=\"https://raw.githubusercontent.com/andre-marcos-perez/ebac-course-utils/main/media/logo/newebac_logo_black_half.png\" alt=\"ebac-logo\">\n",
        "\n",
        "---\n",
        "\n",
        "# **Módulo** | Python: Programação Orientada a Objetos\n",
        "Caderno de **Exercícios**<br> \n",
        "Professor [André Perez](https://www.linkedin.com/in/andremarcosperez/)\n",
        "\n",
        "---"
      ]
    },
    {
      "cell_type": "markdown",
      "metadata": {
        "id": "d9jDtUbDOE1-"
      },
      "source": [
        "# **Tópicos**\n",
        "\n",
        "<ol type=\"1\">\n",
        "  <li>Um pouco de teoria;</li>\n",
        "  <li>Classes;</li>\n",
        "  <li>Objetos;</li>\n",
        "  <li>Herança.</li>\n",
        "</ol>"
      ]
    },
    {
      "cell_type": "markdown",
      "metadata": {
        "id": "SmoHgt-lwkpD"
      },
      "source": [
        "---"
      ]
    },
    {
      "cell_type": "markdown",
      "metadata": {
        "id": "GABI6OW8OfQ2"
      },
      "source": [
        "# **Exercícios**"
      ]
    },
    {
      "cell_type": "markdown",
      "metadata": {
        "id": "syVczIAwGO3A"
      },
      "source": [
        "## 0\\. Preparação do ambiente"
      ]
    },
    {
      "cell_type": "markdown",
      "metadata": {
        "id": "2X3TrxdzGO3C"
      },
      "source": [
        "Neste exercício vamos trabalhar com os arquivos de csv e texto definidos abaixo. Execute cada uma das células de código para escrever os arquivos na sua máquina virtual."
      ]
    },
    {
      "cell_type": "markdown",
      "metadata": {
        "id": "u0uFuhRSq_hQ"
      },
      "source": [
        "* **carros.csv**: arquivo csv com informações sobre carros (venda, manutenção, portas, etc.)."
      ]
    },
    {
      "cell_type": "code",
      "execution_count": 1,
      "metadata": {
        "id": "daMf-xaXqKs2"
      },
      "outputs": [
        {
          "name": "stdout",
          "output_type": "stream",
          "text": [
            "Writing carros.csv\n"
          ]
        }
      ],
      "source": [
        "%%writefile carros.csv\n",
        "id,valor_venda,valor_manutencao,portas,pessoas,porta_malas\n",
        "1,vhigh,med,2,2,small\n",
        "2,med,vhigh,2,2,small\n",
        "3,low,vhigh,2,2,small\n",
        "4,low,high,2,2,small\n",
        "5,low,high,2,2,small\n",
        "6,low,high,4,4,big\n",
        "7,low,high,4,4,big\n",
        "8,low,med,2,2,small\n",
        "9,low,med,2,2,small\n",
        "10,low,med,2,2,small\n",
        "11,low,med,4,4,big\n",
        "12,low,low,2,2,small\n",
        "13,low,low,4,4,small\n",
        "14,low,low,4,4,med"
      ]
    },
    {
      "cell_type": "markdown",
      "metadata": {
        "id": "X0Z2PhbCrTz1"
      },
      "source": [
        "* **musica.txt**: arquivo texto com a letra da música Roda Viva do Chico Buarque."
      ]
    },
    {
      "cell_type": "code",
      "execution_count": 2,
      "metadata": {
        "id": "m7Ge2rggrU73"
      },
      "outputs": [
        {
          "name": "stdout",
          "output_type": "stream",
          "text": [
            "Writing musica.txt\n"
          ]
        }
      ],
      "source": [
        "%%writefile musica.txt\n",
        "Roda Viva\n",
        "Chico Buarque\n",
        "\n",
        "Tem dias que a gente se sente\n",
        "Como quem partiu ou morreu\n",
        "A gente estancou de repente\n",
        "Ou foi o mundo então que cresceu\n",
        "A gente quer ter voz ativa\n",
        "No nosso destino mandar\n",
        "Mas eis que chega a roda viva\n",
        "E carrega o destino pra lá\n",
        "\n",
        "Roda mundo, roda-gigante\n",
        "Roda moinho, roda pião\n",
        "\n",
        "O tempo rodou num instante\n",
        "Nas voltas do meu coração\n",
        "A gente vai contra a corrente\n",
        "Até não poder resistir\n",
        "Na volta do barco é que sente\n",
        "O quanto deixou de cumprir\n",
        "Faz tempo que a gente cultiva\n",
        "A mais linda roseira que há\n",
        "Mas eis que chega a roda viva\n",
        "E carrega a roseira pra lá\n",
        "\n",
        "Roda mundo, roda-gigante\n",
        "Roda moinho, roda pião"
      ]
    },
    {
      "cell_type": "markdown",
      "metadata": {
        "id": "HV69LMAVGO3J"
      },
      "source": [
        "---"
      ]
    },
    {
      "cell_type": "markdown",
      "metadata": {
        "id": "U4S19ZvHsPcE"
      },
      "source": [
        "## 1\\. Classe para ler arquivos de texto"
      ]
    },
    {
      "cell_type": "markdown",
      "metadata": {
        "id": "HQrKGtoMGjf6"
      },
      "source": [
        "Crie a classe `ArquivoTexto`. Ela deve conter os seguintes atributos:\n",
        "\n",
        "*   `self.arquivo`: Atributo do tipo `str` com o nome do arquivo;\n",
        "*   `self.conteudo`: Atributo do tipo `list` onde cada elemento é uma linha do arquivo;\n",
        "\n",
        "A classe também deve conter o seguinte método:\n",
        "\n",
        "*   `self.extrair_linha`: Método que recebe como parâmetro o número da linha e retorna o seu conteúdo."
      ]
    },
    {
      "cell_type": "code",
      "execution_count": 5,
      "metadata": {
        "id": "9QFsOQ9ZGXUC"
      },
      "outputs": [],
      "source": [
        "class ArquivoTexto(object):\n",
        "\n",
        "    def __init__(self, arquivo: str):\n",
        "        self.arquivo = arquivo\n",
        "        self.conteudo = self.extrai_conteudo()\n",
        "\n",
        "    def extrai_conteudo(self) -> list[str]:\n",
        "        conteudo = []\n",
        "\n",
        "        with open(self.arquivo, \"r\", encoding=\"utf-8\") as fp:\n",
        "            linha = fp.readline()\n",
        "            conteudo.append(linha)\n",
        "\n",
        "            while linha:\n",
        "                linha = fp.readline()\n",
        "                conteudo.append(linha)\n",
        "\n",
        "        return conteudo\n",
        "\n",
        "\n",
        "    def extrair_linha(self, numero_linha: int) -> str:\n",
        "        return self.conteudo[numero_linha - 1]\n"
      ]
    },
    {
      "cell_type": "markdown",
      "metadata": {
        "id": "866OgsyHHw2M"
      },
      "source": [
        "Utilize o código abaixo para testar sua classe."
      ]
    },
    {
      "cell_type": "code",
      "execution_count": 6,
      "metadata": {
        "id": "_HV_CE7CH8LO"
      },
      "outputs": [
        {
          "name": "stdout",
          "output_type": "stream",
          "text": [
            "Roda Viva\n",
            "\n",
            "Mas eis que chega a roda viva\n",
            "\n"
          ]
        }
      ],
      "source": [
        "arquivo_texto = ArquivoTexto(arquivo='musica.txt')\n",
        "\n",
        "numero_linha = 1\n",
        "print(arquivo_texto.extrair_linha(numero_linha=numero_linha)) # Roda Viva\n",
        "\n",
        "numero_linha = 10\n",
        "print(arquivo_texto.extrair_linha(numero_linha=numero_linha)) # Mas eis que chega a roda viva"
      ]
    },
    {
      "cell_type": "markdown",
      "metadata": {
        "id": "zMN1Q3jdwoJm"
      },
      "source": [
        "---"
      ]
    },
    {
      "cell_type": "markdown",
      "metadata": {
        "id": "aQ8euzThIlLl"
      },
      "source": [
        "## 2\\. Classe para ler arquivos de csv"
      ]
    },
    {
      "cell_type": "markdown",
      "metadata": {
        "id": "EMWhvKAWIlL0"
      },
      "source": [
        "Crie a classe `ArquivoCSV`. Ela deve extender (herdar) a classe `ArquivoTexto` para reaproveitar os seus atributos (`self.arquivo` e `self.conteudo`) e método (`self.extrair_linha`). Além disso, adicione o seguinte atributo:\n",
        "\n",
        "*   `self.colunas`: Atributo do tipo `list` onde os elementos são os nome das colunas;\n",
        "\n",
        "A classe também deve conter o seguinte método:\n",
        "\n",
        "*   `self.extrair_coluna_da_linha`: Método que recebe como parâmetro o numero da linha e o indice da coluna e retorna o valor em questão."
      ]
    },
    {
      "cell_type": "code",
      "execution_count": 10,
      "metadata": {
        "id": "2r3mfEyYIlL0"
      },
      "outputs": [],
      "source": [
        "class ArquivoCSV(ArquivoTexto):\n",
        "\n",
        "    def __init__(self, arquivo: str):\n",
        "        super().__init__(arquivo)\n",
        "        self.colunas = self.extrair_colunas()\n",
        "\n",
        "    def extrair_colunas(self):\n",
        "        return self.extrair_linha(1).strip().split(\",\")\n",
        "\n",
        "    def extrair_coluna_da_linha(self, numero_linha: int, numero_coluna: int):\n",
        "        return self.extrair_linha(numero_linha).split(\",\")[numero_coluna - 1]"
      ]
    },
    {
      "cell_type": "markdown",
      "metadata": {
        "id": "jQm_hBETIlL1"
      },
      "source": [
        "Utilize o código abaixo para testar sua classe."
      ]
    },
    {
      "cell_type": "code",
      "execution_count": 11,
      "metadata": {
        "id": "GKSf1YbcIlL1"
      },
      "outputs": [
        {
          "name": "stdout",
          "output_type": "stream",
          "text": [
            "id,valor_venda,valor_manutencao,portas,pessoas,porta_malas\n",
            "\n",
            "['id', 'valor_venda', 'valor_manutencao', 'portas', 'pessoas', 'porta_malas']\n",
            "9,low,med,2,2,small\n",
            "\n",
            "low\n"
          ]
        }
      ],
      "source": [
        "arquivo_csv = ArquivoCSV(arquivo='carros.csv')\n",
        "\n",
        "numero_linha = 1\n",
        "print(arquivo_csv.extrair_linha(numero_linha=numero_linha)) # id,valor_venda,valor_manutencao,portas,pessoas,porta_malas\n",
        "\n",
        "print(arquivo_csv.colunas) # ['id', 'valor_venda', 'valor_manutencao', 'portas', 'pessoas', 'porta_malas']\n",
        "\n",
        "numero_linha = 10\n",
        "print(arquivo_csv.extrair_linha(numero_linha=numero_linha)) # 9,low,med,2,2,small\n",
        "\n",
        "numero_linha = 10\n",
        "numero_coluna = 2\n",
        "print(arquivo_csv.extrair_coluna_da_linha(numero_linha=numero_linha, numero_coluna=numero_coluna)) # low"
      ]
    },
    {
      "cell_type": "markdown",
      "metadata": {
        "id": "78xH4bWUIlL2"
      },
      "source": [
        "---"
      ]
    }
  ],
  "metadata": {
    "colab": {
      "collapsed_sections": [],
      "name": "module_6_exercise.ipynb",
      "provenance": [],
      "toc_visible": true
    },
    "kernelspec": {
      "display_name": "Python 3",
      "name": "python3"
    },
    "language_info": {
      "codemirror_mode": {
        "name": "ipython",
        "version": 3
      },
      "file_extension": ".py",
      "mimetype": "text/x-python",
      "name": "python",
      "nbconvert_exporter": "python",
      "pygments_lexer": "ipython3",
      "version": "3.12.6"
    }
  },
  "nbformat": 4,
  "nbformat_minor": 0
}
