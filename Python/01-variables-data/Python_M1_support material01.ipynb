{
  "cells": [
    {
      "cell_type": "markdown",
      "metadata": {
        "id": "KJqp9AANOCtf"
      },
      "source": [
        "<img src=\"https://raw.githubusercontent.com/andre-marcos-perez/ebac-course-utils/main/media/logo/newebac_logo_black_half.png\" alt=\"ebac-logo\">\n",
        "\n",
        "---\n",
        "\n",
        "# **Módulo 01** | Python: Variáveis & Tipos de Dados\n",
        "Caderno de **Aula**<br> \n",
        "Professor [André Perez](https://www.linkedin.com/in/andremarcosperez/)\n",
        "\n",
        "---"
      ]
    },
    {
      "cell_type": "markdown",
      "metadata": {
        "id": "d9jDtUbDOE1-"
      },
      "source": [
        "# **Tópicos**\n",
        "\n",
        "<ol type=\"1\">\n",
        "  <li>Introdução ao Google Colab;</li>\n",
        "  <li>Variáveis;</li>\n",
        "  <li>Números;</li>\n",
        "  <li><i>Strings;</i></li>\n",
        "  <li>Boleanos.</li>\n",
        "</ol>"
      ]
    },
    {
      "cell_type": "markdown",
      "metadata": {
        "id": "SmoHgt-lwkpD"
      },
      "source": [
        "---"
      ]
    },
    {
      "cell_type": "markdown",
      "metadata": {
        "id": "GABI6OW8OfQ2"
      },
      "source": [
        "# **Aulas**"
      ]
    },
    {
      "cell_type": "markdown",
      "metadata": {
        "id": "muD1vxozykSC"
      },
      "source": [
        "## 1\\. Introdução ao Google Colab"
      ]
    },
    {
      "cell_type": "markdown",
      "metadata": {
        "id": "xT1ohV3t0FQJ"
      },
      "source": [
        "> Ferramenta web autogerênciada de cadernos (*notebooks*)."
      ]
    },
    {
      "cell_type": "markdown",
      "metadata": {
        "id": "5a3_syBIP6yO"
      },
      "source": [
        "### **1.1. Ferramenta web** "
      ]
    },
    {
      "cell_type": "markdown",
      "metadata": {
        "id": "xF1tFQyRQag2"
      },
      "source": [
        "\n",
        "\n",
        "*   Crie uma conta Google em [gmail.com](https://gmail.com);\n",
        "*   Acesse o Google Colab através do endereço [colab.research.google.com](https://colab.research.google.com/).\n",
        "\n",
        "\n"
      ]
    },
    {
      "cell_type": "markdown",
      "metadata": {
        "id": "VkIgtLmhQRDV"
      },
      "source": [
        "### **1.2. Autogerênciada** "
      ]
    },
    {
      "cell_type": "markdown",
      "metadata": {
        "id": "P14BSbuH0SQB"
      },
      "source": [
        "\n",
        "\n",
        "*   A Google provisiona uma máquina virtual para você;\n",
        "*   A máquina virtual dura no máximo 12h.\n",
        "\n"
      ]
    },
    {
      "cell_type": "markdown",
      "metadata": {
        "id": "mIgaH380QG2e"
      },
      "source": [
        "### **1.3. Cadernos (*notebooks*)** "
      ]
    },
    {
      "cell_type": "markdown",
      "metadata": {
        "id": "_4Q4H0RKm-4G"
      },
      "source": [
        "Um **caderno** é um documento *web* composto por um conjunto de elementos (células) de texto e código:\n",
        "\n",
        "\n",
        "*   Células de **texto** podem ser editados com o editor da ferramenta, HTML ou Markdown; \n",
        "*   Células de **código** são exclusivamente para a linguagem de programação Python.\n",
        "\n"
      ]
    },
    {
      "cell_type": "code",
      "execution_count": null,
      "metadata": {
        "id": "ILZGen4Ob_vC"
      },
      "outputs": [],
      "source": [
        "print(\"olá mundo!\")"
      ]
    },
    {
      "cell_type": "markdown",
      "metadata": {
        "id": "zC2XR1GRaFl5"
      },
      "source": [
        "## 2\\. Variáveis"
      ]
    },
    {
      "cell_type": "markdown",
      "metadata": {
        "id": "sV1otxQVhcaA"
      },
      "source": [
        "### **2.1. Definição** "
      ]
    },
    {
      "cell_type": "markdown",
      "metadata": {
        "id": "h5y7fCLQkZsh"
      },
      "source": [
        "Mecanismo de armazenamento volátil de dados, ou seja, dados salvos em pedacinhos da memória RAM do sistema computacional em uso (*notebook*, *mobile*, console de vídeo game, *smartwatch*, etc.)."
      ]
    },
    {
      "cell_type": "code",
      "execution_count": null,
      "metadata": {
        "id": "aMZfXjjakydR"
      },
      "outputs": [],
      "source": [
        "idade = 30\n",
        "print(idade)\n",
        "\n",
        "idade = 27\n",
        "print(idade)\n",
        "\n",
        "nome = \"andré\"\n",
        "print(nome)"
      ]
    },
    {
      "cell_type": "markdown",
      "metadata": {
        "id": "JG1HL69-j0lH"
      },
      "source": [
        "### **2.2. Tipos nativos** "
      ]
    },
    {
      "cell_type": "markdown",
      "metadata": {
        "id": "ltUCqK5Yj6AN"
      },
      "source": [
        "**Tipos numéricos:** inteiros (`int`) e decimais (`float`):"
      ]
    },
    {
      "cell_type": "code",
      "execution_count": null,
      "metadata": {
        "id": "7GDDnhhLhsZ2"
      },
      "outputs": [],
      "source": [
        "preco = 1000\n",
        "tipo_preco = type(preco)\n",
        "\n",
        "print(preco)\n",
        "print(tipo_preco)\n",
        "\n",
        "juros = 0.05\n",
        "tipo_juros = type(juros)\n",
        "\n",
        "print(juros)\n",
        "print(tipo_juros)"
      ]
    },
    {
      "cell_type": "markdown",
      "metadata": {
        "id": "5LLx5ePxj_UW"
      },
      "source": [
        "**Tipos de texto:** *strings* (`str`):"
      ]
    },
    {
      "cell_type": "code",
      "execution_count": null,
      "metadata": {
        "id": "FKuOxDzQiHAo"
      },
      "outputs": [],
      "source": [
        "primeiro_nome = \"André\"\n",
        "\n",
        "print(primeiro_nome)\n",
        "print(type(primeiro_nome))\n",
        "\n",
        "pais = 'Brasil'\n",
        "\n",
        "print(pais)\n",
        "print(type(pais))"
      ]
    },
    {
      "cell_type": "markdown",
      "metadata": {
        "id": "RGKyzda2kIh5"
      },
      "source": [
        "**Tipos lógicos:** booleanos (`bool`):"
      ]
    },
    {
      "cell_type": "code",
      "execution_count": null,
      "metadata": {
        "id": "C2cJSexqiTq-"
      },
      "outputs": [],
      "source": [
        "usuario_maior_de_idade = True\n",
        "\n",
        "print(usuario_maior_de_idade)\n",
        "print(type(usuario_maior_de_idade))"
      ]
    },
    {
      "cell_type": "markdown",
      "metadata": {
        "id": "7Is0Z3PzkQqw"
      },
      "source": [
        "**Tipo vazio** (`NoneType`):"
      ]
    },
    {
      "cell_type": "code",
      "execution_count": null,
      "metadata": {
        "id": "47WGcXxIijO-"
      },
      "outputs": [],
      "source": [
        "telefone_fixo = None\n",
        "\n",
        "print(telefone_fixo)\n",
        "print(type(telefone_fixo))"
      ]
    },
    {
      "cell_type": "markdown",
      "metadata": {
        "id": "ZtOHwcxEaGGp"
      },
      "source": [
        "## 3\\. Números"
      ]
    },
    {
      "cell_type": "markdown",
      "metadata": {
        "id": "s_Dj-BgThLg5"
      },
      "source": [
        "### **3.1. Motivação** "
      ]
    },
    {
      "cell_type": "markdown",
      "metadata": {
        "id": "-WX56uZlEVEb"
      },
      "source": [
        "Você precisa calcular o **ticket médio** diário `tkt` do seu restaurante. A métrica é calculada pela soma do valor das vendas `svv` de um mesmo dia dividido pela quantidade de vendas `sqv`, também de um mesmo dia. \n"
      ]
    },
    {
      "cell_type": "markdown",
      "metadata": {
        "id": "5a_KPf7MM_NV"
      },
      "source": [
        "$tkt = svv / sqv$"
      ]
    },
    {
      "cell_type": "markdown",
      "metadata": {
        "id": "QV_qcqfZMzoL"
      },
      "source": [
        "Esta é a sua planilha:\n",
        "\n"
      ]
    },
    {
      "cell_type": "markdown",
      "metadata": {
        "id": "ubiOD7fyNB9t"
      },
      "source": [
        "| Dia   | Valor Total Vendas | Qtd Total Vendas | Ticket Medio |\n",
        "|-------|--------------------|------------------|-|\n",
        "| 19/01 | 153.98             | 3                |?|\n",
        "| 20/01 | 337.01             | 7                |?|\n",
        "| 23/01 | 295.33             | 5                |?|"
      ]
    },
    {
      "cell_type": "markdown",
      "metadata": {
        "id": "zl3QjgS_1o1n"
      },
      "source": [
        "Como podemos fazer este cálculo usando o Python?"
      ]
    },
    {
      "cell_type": "code",
      "execution_count": null,
      "metadata": {},
      "outputs": [],
      "source": [
        "tkt_19_01 = 153.98 / 3\n",
        "print(tkt_19_01)\n",
        "print(type(tkt_19_01))\n",
        "\n",
        "tkt_20_01 = 337.01 / 7\n",
        "print(tkt_20_01)\n",
        "\n",
        "tkt_23_01 = 295.33 / 5\n",
        "print(tkt_23_01)"
      ]
    },
    {
      "cell_type": "markdown",
      "metadata": {
        "id": "jeEzLmuRhDQy"
      },
      "source": [
        "### **3.2. Definição** "
      ]
    },
    {
      "cell_type": "markdown",
      "metadata": {
        "id": "ngFl2buTAnSs"
      },
      "source": [
        "Armazenam **valores numéricos**: \n",
        "\n",
        "*   `10, 37, 500` (inteiros);\n",
        "*   `0.333, 10.1` (decimais);\n",
        "*   `1 + 2j` (complexos).\n",
        "\n"
      ]
    },
    {
      "cell_type": "markdown",
      "metadata": {
        "id": "Ai9djKfjBjO7"
      },
      "source": [
        "São dos tipos:\n",
        "\n",
        "*   `int` (inteiros);\n",
        "*   `float` (decimais);\n",
        "*   `complex` (complexos).\n",
        "\n"
      ]
    },
    {
      "cell_type": "code",
      "execution_count": null,
      "metadata": {
        "id": "45Zt8wPsBzFL"
      },
      "outputs": [],
      "source": [
        "print(type(37))\n",
        "print(type(10.1))\n",
        "print(type(1 + 2j))\n"
      ]
    },
    {
      "cell_type": "markdown",
      "metadata": {
        "id": "PoTeRwlihDQ0"
      },
      "source": [
        "### **3.3. Operações** \n",
        "\n",
        "\n",
        "\n"
      ]
    },
    {
      "cell_type": "markdown",
      "metadata": {
        "id": "jhK1JIKUDGKG"
      },
      "source": [
        "As operações dos tipos numéricos são as quatro operações matemáticas fundamentais:\n",
        "\n",
        "*   `+` (soma);\n",
        "*   `-` (subtração);\n",
        "*   `*` (multiplicação);\n",
        "*   `/` (divisão).\n",
        "\n",
        "Além de operações mais avançadas:\n",
        "\n",
        "*   `//` (divisão inteira)\n",
        "*   `**` (potência ou exponenciação);\n",
        "*   `%` (resto de divisão)."
      ]
    },
    {
      "cell_type": "markdown",
      "metadata": {
        "id": "UYw4Ysf7a9mq"
      },
      "source": [
        "**Exemplo**: Carrinho de compra de um *e-commerce*."
      ]
    },
    {
      "cell_type": "code",
      "execution_count": null,
      "metadata": {
        "id": "jk33JZ4EChkY"
      },
      "outputs": [],
      "source": [
        "qtd_items_carrinho_compra = 0\n",
        "\n",
        "qtd_items_carrinho_compra = qtd_items_carrinho_compra + 1\n",
        "print(qtd_items_carrinho_compra)\n",
        "\n",
        "qtd_items_carrinho_compra = qtd_items_carrinho_compra + 1\n",
        "print(qtd_items_carrinho_compra)"
      ]
    },
    {
      "cell_type": "code",
      "execution_count": null,
      "metadata": {
        "id": "O6RSj4GrD4ub"
      },
      "outputs": [],
      "source": [
        "qtd_items_carrinho_compra = 0\n",
        "\n",
        "qtd_items_carrinho_compra += 1\n",
        "print(qtd_items_carrinho_compra)\n",
        "\n",
        "qtd_items_carrinho_compra += 1\n",
        "print(qtd_items_carrinho_compra)\n"
      ]
    },
    {
      "cell_type": "markdown",
      "metadata": {
        "id": "J7qurQRJbFJZ"
      },
      "source": [
        "**Exemplo**: Total a pagar de um produto."
      ]
    },
    {
      "cell_type": "code",
      "execution_count": null,
      "metadata": {
        "id": "hcIHiGzREIUW"
      },
      "outputs": [],
      "source": [
        "preco = 47\n",
        "quantidade = 0.250\n",
        "\n",
        "total_a_pagar = quantidade * preco\n",
        "print(total_a_pagar)"
      ]
    },
    {
      "cell_type": "code",
      "execution_count": null,
      "metadata": {
        "id": "uK-JxBwc28Yo"
      },
      "outputs": [],
      "source": [
        "a = 3\n",
        "b = 2\n",
        "\n",
        "c = a / b\n",
        "print(c)\n",
        "print(type(c))\n",
        "\n",
        "d = a // b\n",
        "print(d)\n",
        "print(type(d))\n",
        "\n",
        "# A divisão inteira é o quociente da divisão bem dizendo. N = Q*D + R => Q = N // D e R = N % D. \n",
        "# Portanto, N - Q // D = R\n",
        "print(57 - 57//17 * 17 == 57%17)"
      ]
    },
    {
      "cell_type": "markdown",
      "metadata": {
        "id": "QpMlxqRyhDQ1"
      },
      "source": [
        "### **3.4. Conversão** "
      ]
    },
    {
      "cell_type": "markdown",
      "metadata": {
        "id": "blCccgPDb4Xq"
      },
      "source": [
        "Podemos converter os tipos numéricos entre si utilizando o método nativo `int`, `float` e `complex`:"
      ]
    },
    {
      "cell_type": "code",
      "execution_count": null,
      "metadata": {
        "id": "ys7oqfsSPxuo"
      },
      "outputs": [],
      "source": [
        "print(int(3.9))"
      ]
    },
    {
      "cell_type": "code",
      "execution_count": null,
      "metadata": {
        "id": "X9gYjUQscd93"
      },
      "outputs": [],
      "source": [
        "print(float(10))"
      ]
    },
    {
      "cell_type": "code",
      "execution_count": null,
      "metadata": {
        "id": "0NyTadpHchyu"
      },
      "outputs": [],
      "source": [
        "print(complex(1))\n",
        "\n",
        "print((1 - 4j) * (2 + 3j))"
      ]
    },
    {
      "cell_type": "markdown",
      "metadata": {
        "id": "ov7Fg-mWhDQ1"
      },
      "source": [
        "### **3.5. Revisitando a motivação** "
      ]
    },
    {
      "cell_type": "markdown",
      "metadata": {
        "id": "FCoe_26dbXwR"
      },
      "source": [
        "| Dia   | Valor Total Vendas | Qtd Total Vendas | Ticket Medio |\n",
        "|-------|--------------------|------------------|-|\n",
        "| 19/01 | 153.98             | 3                |?|\n",
        "| 20/01 | 337.01             | 7                |?|\n",
        "| 23/01 | 295.33             | 5                |?|"
      ]
    },
    {
      "cell_type": "markdown",
      "metadata": {
        "id": "fWH4WbWAOgoz"
      },
      "source": [
        "Ticket médio diário do dia 19/01."
      ]
    },
    {
      "cell_type": "code",
      "execution_count": null,
      "metadata": {
        "id": "gYcNsiolOUKU"
      },
      "outputs": [],
      "source": [
        "svv_19 = 153.98\n",
        "sqv_19 = 3\n",
        "\n",
        "tkt_19 = svv_19 / sqv_19\n",
        "print(tkt_19)"
      ]
    },
    {
      "cell_type": "markdown",
      "metadata": {
        "id": "RrLEVyS6Pmpn"
      },
      "source": [
        "Ticket médio diário do dia 20/01."
      ]
    },
    {
      "cell_type": "code",
      "execution_count": null,
      "metadata": {
        "id": "YIi6A_55OUpT"
      },
      "outputs": [],
      "source": [
        "svv_20 = 337.01\n",
        "sqv_20 = 7\n",
        "\n",
        "tkt_20 = svv_20 / sqv_20\n",
        "print(tkt_20)"
      ]
    },
    {
      "cell_type": "markdown",
      "metadata": {
        "id": "iQyQbWldPpIq"
      },
      "source": [
        "Ticket médio diário do dia 23/01."
      ]
    },
    {
      "cell_type": "code",
      "execution_count": null,
      "metadata": {
        "id": "3DX3teGqPHet"
      },
      "outputs": [],
      "source": [
        "svv_23 = 295.33\n",
        "sqv_23 = 5\n",
        "\n",
        "tkt_23 = svv_23 / sqv_23\n",
        "print(tkt_23)"
      ]
    },
    {
      "cell_type": "markdown",
      "metadata": {
        "id": "is2buU5dPrS-"
      },
      "source": [
        "Ticket médio"
      ]
    },
    {
      "cell_type": "code",
      "execution_count": null,
      "metadata": {
        "id": "G6-yjrQkPT8y"
      },
      "outputs": [],
      "source": [
        "tkt = (tkt_19 + tkt_20 + tkt_23) / 3\n",
        "print(tkt)"
      ]
    },
    {
      "cell_type": "markdown",
      "metadata": {
        "id": "ne7Ay0HKaGSv"
      },
      "source": [
        "## 4\\. *Strings*"
      ]
    },
    {
      "cell_type": "markdown",
      "metadata": {
        "id": "DvHPNAoPgdiG"
      },
      "source": [
        "### **4.1. Motivação** "
      ]
    },
    {
      "cell_type": "markdown",
      "metadata": {
        "id": "2zLVibiQtAly"
      },
      "source": [
        "A empresa que você trabalha adquiriu uma *startup* de logística. Você precisa identificar todos endereços que são comum a ambas. Na sua empresa, você armazena a latitude e longitude dos endereços em duas variáveis `lat` e `lon`, já a *startup* adquirida em uma única variável `latlon`.\n",
        "\n"
      ]
    },
    {
      "cell_type": "code",
      "execution_count": 31,
      "metadata": {
        "id": "YYWnkgj4udsB"
      },
      "outputs": [],
      "source": [
        "# sua empresa\n",
        "lat = '-22.005320'\n",
        "lon = '-47.891040'\n",
        "\n",
        "# startup adquirida\n",
        "latlon = '-22.005320;-47.891040'"
      ]
    },
    {
      "cell_type": "markdown",
      "metadata": {
        "id": "NqIBXMslu8rx"
      },
      "source": [
        "Como podemos normalizar a forma com que as latitudes e longitudes são armazenadas para possam ser comparadas?"
      ]
    },
    {
      "cell_type": "markdown",
      "metadata": {
        "id": "3SMp5GwjglJm"
      },
      "source": [
        "### **4.2. Definição**"
      ]
    },
    {
      "cell_type": "markdown",
      "metadata": {
        "id": "OyaC_TtSc-WB"
      },
      "source": [
        "Armazenam **textos**:"
      ]
    },
    {
      "cell_type": "markdown",
      "metadata": {
        "id": "iJ4X178KeNEM"
      },
      "source": [
        "\n",
        "*   `c`, `EBAC`, `Andre Perez, 20 anos` (texto)\n",
        "\n"
      ]
    },
    {
      "cell_type": "markdown",
      "metadata": {
        "id": "Z7rXi3m_ewAs"
      },
      "source": [
        "São do tipo `str`:"
      ]
    },
    {
      "cell_type": "code",
      "execution_count": null,
      "metadata": {
        "id": "2WC97LIMfUsb"
      },
      "outputs": [],
      "source": [
        "nome_aula = 'Aula 04, Módulo 01, Strings'\n",
        "\n",
        "print(nome_aula)\n",
        "print(type(nome_aula))"
      ]
    },
    {
      "cell_type": "code",
      "execution_count": null,
      "metadata": {
        "id": "T0pVDdDDFix5"
      },
      "outputs": [],
      "source": [
        "string_vazia = \"\"\n",
        "\n",
        "print(string_vazia)\n",
        "print(type(string_vazia))"
      ]
    },
    {
      "cell_type": "markdown",
      "metadata": {
        "id": "e3ieQfXTgqd3"
      },
      "source": [
        "### **4.3. Operações** "
      ]
    },
    {
      "cell_type": "markdown",
      "metadata": {
        "id": "IsHq0ZpTf2M8"
      },
      "source": [
        "As operações de variáveis do tipo *string* são:\n",
        "\n",
        "\n",
        "*   `+` (concatenação).\n",
        "\n"
      ]
    },
    {
      "cell_type": "markdown",
      "metadata": {
        "id": "0om-T5A_h8h2"
      },
      "source": [
        "**Exemplo:** Nome completo."
      ]
    },
    {
      "cell_type": "code",
      "execution_count": null,
      "metadata": {
        "id": "mFWid8IlgChM"
      },
      "outputs": [],
      "source": [
        "nome = 'Andre Marcos'\n",
        "sobrenome = 'Perez'\n",
        "\n",
        "apresentacao = 'Olá, meu nome é ' + nome + ' ' + sobrenome + '.'\n",
        "print(apresentacao)"
      ]
    },
    {
      "cell_type": "markdown",
      "metadata": {
        "id": "EOmjluXb_6mt"
      },
      "source": [
        "Uma outra forma de concatenar strings é utilizar operações de formatação:"
      ]
    },
    {
      "cell_type": "code",
      "execution_count": null,
      "metadata": {
        "id": "DskkKjbmABA3"
      },
      "outputs": [],
      "source": [
        "nome = 'Andre Marcos'\n",
        "sobrenome = 'Perez'\n",
        "\n",
        "apresentacao = f'Olá, meu nome é {nome} {sobrenome}.'\n",
        "print(apresentacao)"
      ]
    },
    {
      "cell_type": "markdown",
      "metadata": {
        "id": "vJ3GmHlbiklQ"
      },
      "source": [
        "Outra operação muito utilizada é a de fatiamento (*slicing*):\n",
        "\n"
      ]
    },
    {
      "cell_type": "markdown",
      "metadata": {
        "id": "h8i95BIFn8G9"
      },
      "source": [
        "**Exemplo**: Informações de email."
      ]
    },
    {
      "cell_type": "code",
      "execution_count": 5,
      "metadata": {
        "id": "fGXbXFaAmM8J"
      },
      "outputs": [],
      "source": [
        "email = 'andre.perez@gmail.com'"
      ]
    },
    {
      "cell_type": "markdown",
      "metadata": {
        "id": "gnZGbes5mGeK"
      },
      "source": [
        "\n",
        "\n",
        "Fatiamento fixo:\n",
        "\n",
        "|a|n|d|r|e|.|p|e|r|e|z|@|g|m|a|i|l|.|c|o|m|\n",
        "|-|-|-|-|-|-|-|-|-|-|-|-|-|-|-|-|-|-|-|-|-|\n",
        "|0|1|2|3|4|5|6|7|8|9|10|11|12|13|14|15|16|17|18|19|20|\n",
        "\n"
      ]
    },
    {
      "cell_type": "code",
      "execution_count": null,
      "metadata": {
        "id": "oKjp4JKklnJF"
      },
      "outputs": [],
      "source": [
        "print('0: ' + email[0])\n",
        "print('11: ' + email[11])"
      ]
    },
    {
      "cell_type": "code",
      "execution_count": null,
      "metadata": {
        "id": "ZLee51Qpoa5Q"
      },
      "outputs": [],
      "source": [
        "print('-1: ' + email[-1])\n",
        "print('-2: ' + email[-2])"
      ]
    },
    {
      "cell_type": "markdown",
      "metadata": {
        "id": "tAx_IG1bmZVG"
      },
      "source": [
        "\n",
        "\n",
        "Fatiamento por intervalo:\n",
        "\n",
        "|a|n|d|r|e|.|p|e|r|e|z|@|g|m|a|i|l|.|c|o|m|\n",
        "|-|-|-|-|-|-|-|-|-|-|-|-|-|-|-|-|-|-|-|-|-|\n",
        "|0|1|2|3|4|5|6|7|8|9|10|11|12|13|14|15|16|17|18|19|20|\n",
        "\n"
      ]
    },
    {
      "cell_type": "code",
      "execution_count": null,
      "metadata": {
        "id": "WqP4HwT3mYgO"
      },
      "outputs": [],
      "source": [
        "email_usuario = email[0:11]\n",
        "print(email_usuario)"
      ]
    },
    {
      "cell_type": "code",
      "execution_count": null,
      "metadata": {
        "id": "zOas_vlEmsby"
      },
      "outputs": [],
      "source": [
        "email_provedor = email[12:21]\n",
        "print(email_provedor)"
      ]
    },
    {
      "cell_type": "markdown",
      "metadata": {
        "id": "L0pKWNr5fm9z"
      },
      "source": [
        "### **4.4. Métodos** "
      ]
    },
    {
      "cell_type": "markdown",
      "metadata": {
        "id": "52PinrQEon8-"
      },
      "source": [
        "São métodos nativos do Python que nos ajudam a trabalhar no dia a dia com *strings*:"
      ]
    },
    {
      "cell_type": "code",
      "execution_count": 22,
      "metadata": {
        "id": "-63WyR-4o0Y-"
      },
      "outputs": [],
      "source": [
        "endereco = 'Avenida Paulista, 1811, São Paulo, São Paulo, Brasil.'"
      ]
    },
    {
      "cell_type": "code",
      "execution_count": 23,
      "metadata": {
        "id": "qtGTk_Fwpixw"
      },
      "outputs": [
        {
          "name": "stdout",
          "output_type": "stream",
          "text": [
            "AVENIDA PAULISTA, 1811, SÃO PAULO, SÃO PAULO, BRASIL.\n"
          ]
        }
      ],
      "source": [
        "# maiusculo: string.upper()\n",
        "print(endereco.upper())"
      ]
    },
    {
      "cell_type": "code",
      "execution_count": 24,
      "metadata": {
        "id": "8tYEXNxFqBnt"
      },
      "outputs": [
        {
          "name": "stdout",
          "output_type": "stream",
          "text": [
            "46\n"
          ]
        }
      ],
      "source": [
        "# posicao: string.find(substring)\n",
        "posicao = endereco.find('Brasil')\n",
        "print(posicao)"
      ]
    },
    {
      "cell_type": "code",
      "execution_count": 25,
      "metadata": {
        "id": "QuiITrGCqHbW"
      },
      "outputs": [
        {
          "name": "stdout",
          "output_type": "stream",
          "text": [
            "Av Paulista, 1811, São Paulo, São Paulo, Brasil.\n"
          ]
        }
      ],
      "source": [
        "# substituição: string.replace(antigo, novo)\n",
        "print(endereco.replace('Avenida', 'Av'))"
      ]
    },
    {
      "cell_type": "markdown",
      "metadata": {
        "id": "DMhCpOU_gupo"
      },
      "source": [
        "### **4.5. Conversão** "
      ]
    },
    {
      "cell_type": "markdown",
      "metadata": {
        "id": "1RLPv08iqnh0"
      },
      "source": [
        "Podemos converter *strings* em tipos numéricos e vice-versa."
      ]
    },
    {
      "cell_type": "code",
      "execution_count": 26,
      "metadata": {
        "id": "3Vp8jY1Hqlz0"
      },
      "outputs": [
        {
          "name": "stdout",
          "output_type": "stream",
          "text": [
            "<class 'int'>\n",
            "<class 'str'>\n"
          ]
        }
      ],
      "source": [
        "idade = 19\n",
        "print(type(idade))\n",
        "\n",
        "idade = str(idade)\n",
        "print(type(idade))"
      ]
    },
    {
      "cell_type": "code",
      "execution_count": 30,
      "metadata": {
        "id": "I6f8ZEPlrAgN"
      },
      "outputs": [
        {
          "name": "stdout",
          "output_type": "stream",
          "text": [
            "R$ 35 mi\n",
            "<class 'str'>\n",
            "35\n",
            "<class 'int'>\n",
            "1005.36\n",
            "<class 'float'>\n"
          ]
        }
      ],
      "source": [
        "faturamento = 'R$ 35 mi'\n",
        "print(faturamento)\n",
        "print(type(idade))\n",
        "\n",
        "faturamento = int(faturamento[3:5])\n",
        "print(faturamento)\n",
        "print(type(faturamento))\n",
        "\n",
        "newBalance = \"R$ 1005.36\"\n",
        "newBalance = float(newBalance[3:])\n",
        "print(newBalance)\n",
        "print(type(newBalance))"
      ]
    },
    {
      "cell_type": "markdown",
      "metadata": {
        "id": "l3h0WP2Eg2ht"
      },
      "source": [
        "### **4.6. Revisitando a motivação** "
      ]
    },
    {
      "cell_type": "markdown",
      "metadata": {
        "id": "cbTc4NNVzkTZ"
      },
      "source": [
        "Encontrando a posição do caracter `;` de divisão das *strings* de latitude e longitude da variável da startup:"
      ]
    },
    {
      "cell_type": "code",
      "execution_count": 32,
      "metadata": {
        "id": "95m9FlwVyrBE"
      },
      "outputs": [
        {
          "name": "stdout",
          "output_type": "stream",
          "text": [
            "10\n"
          ]
        }
      ],
      "source": [
        "posicao_char_divisao = latlon.find(';')\n",
        "print(posicao_char_divisao)"
      ]
    },
    {
      "cell_type": "markdown",
      "metadata": {
        "id": "5Sby1I4WzyFH"
      },
      "source": [
        "Extraindo a latitude:"
      ]
    },
    {
      "cell_type": "code",
      "execution_count": 35,
      "metadata": {
        "id": "tXYl5Qd4zPUR"
      },
      "outputs": [
        {
          "name": "stdout",
          "output_type": "stream",
          "text": [
            "-22.005320\n",
            "-22.005320\n"
          ]
        }
      ],
      "source": [
        "lat_startup = latlon[0:posicao_char_divisao]\n",
        "print(lat_startup)\n",
        "print(latlon[:posicao_char_divisao])"
      ]
    },
    {
      "cell_type": "markdown",
      "metadata": {
        "id": "rpK7U99qz1uP"
      },
      "source": [
        "Extraindo a longitude:"
      ]
    },
    {
      "cell_type": "code",
      "execution_count": 39,
      "metadata": {
        "id": "T3ctz0fbzRcA"
      },
      "outputs": [
        {
          "name": "stdout",
          "output_type": "stream",
          "text": [
            "-47.891040\n",
            "-47.891040\n"
          ]
        }
      ],
      "source": [
        "lon_startup = latlon[posicao_char_divisao+1:len(latlon)]\n",
        "print(lon_startup)\n",
        "print(latlon[posicao_char_divisao+1:])"
      ]
    },
    {
      "cell_type": "markdown",
      "metadata": {
        "id": "EvJTE2FpaGeU"
      },
      "source": [
        "## 5\\. Boleanos"
      ]
    },
    {
      "cell_type": "markdown",
      "metadata": {
        "id": "rWG4Vk6XaWtf"
      },
      "source": [
        "### **5.1. Motivação** \n",
        "\n"
      ]
    },
    {
      "cell_type": "markdown",
      "metadata": {
        "id": "jayz6OAaerA1"
      },
      "source": [
        "Em *websites* (redes sociais, *e-commerce*, corporativos, etc.) é comum o uso de sistemas de controle de acesso, o famoso *login*. Em geral, nestes sistemas um usuário fornece dois dados: `usuario` e `senha`:"
      ]
    },
    {
      "cell_type": "code",
      "execution_count": 40,
      "metadata": {
        "id": "-vdJFukSbGVC"
      },
      "outputs": [],
      "source": [
        "usuario = 'andre.perez'\n",
        "senha = 'andre123'"
      ]
    },
    {
      "cell_type": "markdown",
      "metadata": {
        "id": "X4lWGX3nbFqE"
      },
      "source": [
        "Do lado do servidor, o *backend* do *website* tem armazenado os dados de usuário e senha fornecidas pelo usuário no momento do cadastro: `usuario_cadastro` e `senha_cadastro`:"
      ]
    },
    {
      "cell_type": "code",
      "execution_count": 41,
      "metadata": {
        "id": "pF1ZKoF5by6v"
      },
      "outputs": [],
      "source": [
        "usuario_cadastro = 'andre.perez'\n",
        "senha_cadastro = 'andre321'"
      ]
    },
    {
      "cell_type": "markdown",
      "metadata": {
        "id": "ab-roDU-b5UA"
      },
      "source": [
        "Como comparamos se as *strings* (`usuario`, `usuario_cadastro`) e (`senha`,`senha_cadastro`) são iguais para conceder ou bloquear o acesso do usuário?"
      ]
    },
    {
      "cell_type": "markdown",
      "metadata": {
        "id": "wkibgd8rB8y3"
      },
      "source": [
        "### **5.2. Definição** "
      ]
    },
    {
      "cell_type": "markdown",
      "metadata": {
        "id": "Iy9ZmOJpVxHQ"
      },
      "source": [
        "Armazenam **valores lógicos**:\n",
        "\n",
        "*   `True` (verdadeiro);\n",
        "*   `False` (falso)."
      ]
    },
    {
      "cell_type": "code",
      "execution_count": 42,
      "metadata": {
        "id": "C3ktXued98wX"
      },
      "outputs": [
        {
          "name": "stdout",
          "output_type": "stream",
          "text": [
            "True\n"
          ]
        }
      ],
      "source": [
        "verdadeiro = True\n",
        "print(verdadeiro)"
      ]
    },
    {
      "cell_type": "code",
      "execution_count": 43,
      "metadata": {
        "id": "BiOivdViCH9e"
      },
      "outputs": [
        {
          "name": "stdout",
          "output_type": "stream",
          "text": [
            "False\n"
          ]
        }
      ],
      "source": [
        "falso = False\n",
        "print(falso)"
      ]
    },
    {
      "cell_type": "markdown",
      "metadata": {
        "id": "Z0tOpkiS0EiO"
      },
      "source": [
        "São do tipo `bool`."
      ]
    },
    {
      "cell_type": "code",
      "execution_count": 47,
      "metadata": {
        "id": "dyo_noZ80Hra"
      },
      "outputs": [
        {
          "name": "stdout",
          "output_type": "stream",
          "text": [
            "<class 'bool'>\n",
            "<class 'dict'>\n"
          ]
        }
      ],
      "source": [
        "print(type(True))\n",
        "print(type({\"name\": 2}))"
      ]
    },
    {
      "cell_type": "markdown",
      "metadata": {
        "id": "qEQrHcyGCtVu"
      },
      "source": [
        "São resultados de comparações lógicas. Os operadores de comparação lógica são:\n",
        "\n",
        "*   `>` (maior);\n",
        "*   `<` (menor);\n",
        "*   `==` (igual);\n",
        "*   `>=` (maior ou igual);\n",
        "*   `<=` (menor ou igual);\n",
        "*   `!=` (diferente).\n",
        "\n"
      ]
    },
    {
      "cell_type": "markdown",
      "metadata": {
        "id": "C-rpefH6fIPf"
      },
      "source": [
        "**Exemplo:** Caixa eletrônico"
      ]
    },
    {
      "cell_type": "code",
      "execution_count": 48,
      "metadata": {
        "id": "q5PQwuBXDD2P"
      },
      "outputs": [
        {
          "name": "stdout",
          "output_type": "stream",
          "text": [
            "True\n"
          ]
        }
      ],
      "source": [
        "saldo_em_conta = 200\n",
        "valor_do_saque = 100\n",
        "\n",
        "pode_executar_saque = valor_do_saque <= saldo_em_conta\n",
        "print(pode_executar_saque)"
      ]
    },
    {
      "cell_type": "markdown",
      "metadata": {
        "id": "6a7xCtTwfSHq"
      },
      "source": [
        "**Exemplo:** Cartão de crédito"
      ]
    },
    {
      "cell_type": "code",
      "execution_count": 49,
      "metadata": {
        "id": "8pdPLoK9DYZJ"
      },
      "outputs": [
        {
          "name": "stdout",
          "output_type": "stream",
          "text": [
            "False\n"
          ]
        }
      ],
      "source": [
        "codigo_de_seguranca = '852'\n",
        "codigo_de_seguranca_cadastro = '010'\n",
        "\n",
        "pode_efetuar_pagamento = codigo_de_seguranca == codigo_de_seguranca_cadastro\n",
        "print(pode_efetuar_pagamento)"
      ]
    },
    {
      "cell_type": "markdown",
      "metadata": {
        "id": "IjPaJtnYE0MI"
      },
      "source": [
        "### **5.3. Operações**"
      ]
    },
    {
      "cell_type": "markdown",
      "metadata": {
        "id": "E_1PEdDBV7iM"
      },
      "source": [
        "As operações de variáveis booleanas são: \n",
        "\n",
        "* `|` (operador ou)\n",
        "* `&` (operador e)\n",
        "* `not` (operador não)\n",
        "\n",
        "\n",
        "O conjunto de resultados de operações lógicas geralmente é resumido em uma tabela chamada \"tabela da verdade\":"
      ]
    },
    {
      "cell_type": "markdown",
      "metadata": {
        "id": "CHn4_ahDIAjz"
      },
      "source": [
        "| A        | B        | | | A OR B   | | A AND B  | | NOT A    |\n",
        "|----------|----------|-|-|----------|-|----------|-|----------|\n",
        "| **TRUE** | **TRUE** | | | **TRUE** | | **TRUE** | | FALSE    |\n",
        "| **TRUE** | FALSE    | | | **TRUE** | | FALSE    | | FALSE    |\n",
        "| FALSE    | FALSE    | | | FALSE    | | FALSE    | | **TRUE** |\n",
        "| FALSE    | **TRUE** | | | **TRUE** | | FALSE    | | **TRUE** |"
      ]
    },
    {
      "cell_type": "markdown",
      "metadata": {
        "id": "APMLCAXigGuI"
      },
      "source": [
        "**Exemplo**: Tabela da verdade do operador `|` (ou)."
      ]
    },
    {
      "cell_type": "code",
      "execution_count": 50,
      "metadata": {
        "id": "-_OVIIKNE51C"
      },
      "outputs": [
        {
          "name": "stdout",
          "output_type": "stream",
          "text": [
            "True\n",
            "True\n",
            "False\n",
            "True\n"
          ]
        }
      ],
      "source": [
        "print(True | True)\n",
        "print(True | False)\n",
        "print(False | False)\n",
        "print(False | True)"
      ]
    },
    {
      "cell_type": "markdown",
      "metadata": {
        "id": "YK4D_jKOgRec"
      },
      "source": [
        "**Exemplo**: Tabela da verdade do operador `&` (e)."
      ]
    },
    {
      "cell_type": "code",
      "execution_count": 51,
      "metadata": {
        "id": "skRK0k3aLmgx"
      },
      "outputs": [
        {
          "name": "stdout",
          "output_type": "stream",
          "text": [
            "True\n",
            "False\n",
            "False\n",
            "False\n"
          ]
        }
      ],
      "source": [
        "print(True & True)\n",
        "print(True & False)\n",
        "print(False & False)\n",
        "print(False & True)"
      ]
    },
    {
      "cell_type": "markdown",
      "metadata": {
        "id": "Mj924xFDgUio"
      },
      "source": [
        "**Exemplo**: Tabela da verdade do operador `not` (não)."
      ]
    },
    {
      "cell_type": "code",
      "execution_count": 52,
      "metadata": {
        "id": "woeHvKz8LrcD"
      },
      "outputs": [
        {
          "name": "stdout",
          "output_type": "stream",
          "text": [
            "False\n",
            "True\n"
          ]
        }
      ],
      "source": [
        "print(not True)\n",
        "print(not False)"
      ]
    },
    {
      "cell_type": "markdown",
      "metadata": {
        "id": "2lpj1rszc--m"
      },
      "source": [
        "### **5.4. Conversão**"
      ]
    },
    {
      "cell_type": "markdown",
      "metadata": {
        "id": "KUq8EX6-dDBJ"
      },
      "source": [
        "Podemos converter tipos numéricos e *strings* para booleanos através do método nativo `bool`:"
      ]
    },
    {
      "cell_type": "code",
      "execution_count": 54,
      "metadata": {
        "id": "O9tgHXRQdNJL"
      },
      "outputs": [
        {
          "name": "stdout",
          "output_type": "stream",
          "text": [
            "True\n",
            "True\n",
            "False\n",
            "False\n",
            "False\n"
          ]
        }
      ],
      "source": [
        "idade = 19\n",
        "tipo_sangue = 'O-'\n",
        "filhos = 0\n",
        "telefone_fixo = None\n",
        "telefone_fixo2 = ''\n",
        "\n",
        "print(bool(idade))\n",
        "print(bool(tipo_sangue))\n",
        "print(bool(filhos))\n",
        "print(bool(telefone_fixo))\n",
        "print(bool(telefone_fixo2))"
      ]
    },
    {
      "cell_type": "markdown",
      "metadata": {
        "id": "HnWg_mhLd5gC"
      },
      "source": [
        "### **5.5. Revisitando a motivação**"
      ]
    },
    {
      "cell_type": "markdown",
      "metadata": {
        "id": "jZKyTqyU816m"
      },
      "source": [
        "Compara se os dados fornecidos pelo usuário são iguais aos dados do cadastro:"
      ]
    },
    {
      "cell_type": "code",
      "execution_count": 55,
      "metadata": {
        "id": "CjOvS816d9jM"
      },
      "outputs": [
        {
          "name": "stdout",
          "output_type": "stream",
          "text": [
            "True\n",
            "False\n"
          ]
        }
      ],
      "source": [
        "usuario_igual = usuario == usuario_cadastro\n",
        "senha_igual = senha == senha_cadastro\n",
        "\n",
        "print(usuario_igual)\n",
        "print(senha_igual)"
      ]
    },
    {
      "cell_type": "markdown",
      "metadata": {
        "id": "t1xsfbwY87-g"
      },
      "source": [
        "Decide se concede o acesso:"
      ]
    },
    {
      "cell_type": "code",
      "execution_count": 56,
      "metadata": {
        "id": "MLxkWnuSeT5A"
      },
      "outputs": [
        {
          "name": "stdout",
          "output_type": "stream",
          "text": [
            "False\n"
          ]
        }
      ],
      "source": [
        "conceder_acesso = usuario_igual & senha_igual\n",
        "print(conceder_acesso)"
      ]
    },
    {
      "cell_type": "markdown",
      "metadata": {},
      "source": [
        "## Studying Regex\n",
        "\n",
        "Below is the most important methods and ways to work with Regex in Python.\n",
        "\n",
        "First, we need to import the `re` library to give to Python all the methods to handle regex."
      ]
    },
    {
      "cell_type": "code",
      "execution_count": 110,
      "metadata": {},
      "outputs": [
        {
          "name": "stdout",
          "output_type": "stream",
          "text": [
            "['n', 'n', 'n']\n",
            "<re.Match object; span=(5, 7), match='ai'>\n",
            "['The', 'rain', 'in', 'Spain']\n",
            "['The', 'rain', 'in Spain']\n",
            "The__rain__in__Spain\n",
            "The__rain__in__Spain\n",
            "<re.Match object; span=(12, 17), match='Spain'> \n",
            " (12, 17) \n",
            " Spain \n",
            " The rain in Spain \n",
            " 12 \n",
            " 17 \n",
            " ((12, 17),)\n"
          ]
        }
      ],
      "source": [
        "import re\n",
        "\n",
        "txt = \"The rain in Spain\"\n",
        "find_all_occurrences = re.findall(\"n\", txt)\n",
        "simple_search = re.search(\"ai\", txt)\n",
        "splitting_at_match = re.split(r\"\\s\", txt)\n",
        "splitting_at_match_limited = re.split(r\"\\s\", txt, 2)\n",
        "txt_replaced = re.sub(r\"\\s\", \"__\", txt)\n",
        "txt_replaced_limited = re.sub(r\"\\s\", \"__\", txt)\n",
        "searching_and_returning_the_match_object = re.search(r\"\\bS\\w+\", txt)\n",
        "\n",
        "print(find_all_occurrences)\n",
        "print(simple_search)\n",
        "print(splitting_at_match)\n",
        "print(splitting_at_match_limited)\n",
        "print(txt_replaced)\n",
        "print(txt_replaced_limited)\n",
        "print(searching_and_returning_the_match_object, \"\\n\", searching_and_returning_the_match_object.span(), \"\\n\",searching_and_returning_the_match_object.group(), \"\\n\", searching_and_returning_the_match_object.string, \"\\n\",searching_and_returning_the_match_object.start(), \"\\n\", searching_and_returning_the_match_object.end(), \"\\n\", searching_and_returning_the_match_object.regs)\n"
      ]
    },
    {
      "cell_type": "markdown",
      "metadata": {
        "id": "zMN1Q3jdwoJm"
      },
      "source": [
        "---"
      ]
    },
    {
      "cell_type": "markdown",
      "metadata": {
        "id": "lSDYsB4zO04L"
      },
      "source": [
        "# **Conteúdo Extra**\n",
        "\n"
      ]
    },
    {
      "cell_type": "markdown",
      "metadata": {
        "id": "RhqmXiHQo-is"
      },
      "source": [
        "### Documentação Google Colab\n",
        "\n",
        " - [Google Colab FAQ](https://research.google.com/colaboratory/faq.html): Perguntas mais frequentes sobre o Google Colab."
      ]
    },
    {
      "cell_type": "markdown",
      "metadata": {
        "id": "SvT9xrajLL7J"
      },
      "source": [
        "### Documentação Python\n",
        "\n",
        "\n",
        " - [Tipos Nativos](https://docs.python.org/pt-br/3/library/stdtypes.html): Documentação oficial dos tipos de variáveis nativas da linguagem Python;\n",
        " - [Métodos de String](https://www.w3schools.com/python/python_ref_string.asp): Lista de métodos de *strings* com exemplos."
      ]
    },
    {
      "cell_type": "markdown",
      "metadata": {
        "id": "91eSyA2cLLqv"
      },
      "source": [
        "### Cadernos\n",
        "\n",
        " - [JupyterLab](https://jupyter.org/): Projeto original de de cadernos;\n",
        " - [GCP Notebooks](https://cloud.google.com/ai-platform-notebooks): Solução autogerenciada de cadernos da empresa Google Cloud Platform (GCP);\n",
        " - [Azure Notebooks](https://notebooks.azure.com/): Solução autogerenciada de cadernos da empresa Microsoft Azure;\n",
        " - [Databricks Notebooks](https://databricks.com/product/collaborative-notebooks): Solução autogerenciada de cadernos da empresa Databricks;\n",
        " - [AWS Sagemaker Notebooks](https://aws.amazon.com/pt/sagemaker/): Solução autogerenciada de cadernos da empresa Amazon Web Services (AWS)."
      ]
    }
  ],
  "metadata": {
    "colab": {
      "collapsed_sections": [
        "JG1HL69-j0lH",
        "s_Dj-BgThLg5",
        "jeEzLmuRhDQy",
        "PoTeRwlihDQ0",
        "QpMlxqRyhDQ1",
        "ov7Fg-mWhDQ1",
        "DvHPNAoPgdiG",
        "3SMp5GwjglJm",
        "e3ieQfXTgqd3",
        "L0pKWNr5fm9z",
        "DMhCpOU_gupo",
        "l3h0WP2Eg2ht",
        "rWG4Vk6XaWtf",
        "wkibgd8rB8y3",
        "IjPaJtnYE0MI",
        "2lpj1rszc--m",
        "HnWg_mhLd5gC",
        "RhqmXiHQo-is",
        "SvT9xrajLL7J",
        "91eSyA2cLLqv"
      ],
      "name": "module_1_class.ipynb",
      "provenance": [],
      "toc_visible": true
    },
    "kernelspec": {
      "display_name": "Python 3",
      "name": "python3"
    },
    "language_info": {
      "codemirror_mode": {
        "name": "ipython",
        "version": 3
      },
      "file_extension": ".py",
      "mimetype": "text/x-python",
      "name": "python",
      "nbconvert_exporter": "python",
      "pygments_lexer": "ipython3",
      "version": "3.12.6"
    }
  },
  "nbformat": 4,
  "nbformat_minor": 0
}
